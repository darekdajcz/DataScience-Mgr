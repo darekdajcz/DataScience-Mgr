{
 "cells": [
  {
   "cell_type": "markdown",
   "metadata": {},
   "source": [
    "# Tensorflow"
   ]
  },
  {
   "cell_type": "code",
   "metadata": {
    "ExecuteTime": {
     "end_time": "2025-04-05T07:47:34.339452Z",
     "start_time": "2025-04-05T07:47:26.384167Z"
    }
   },
   "source": [
    "import tensorflow as tf\n",
    "X = tf.constant([[1, 2, 3], [4, 5, 6]], dtype=tf.float64)\n",
    "Y = tf.constant([[2, 3, 4], [5, 6, 7]], dtype=tf.float64)\n",
    "X"
   ],
   "outputs": [
    {
     "data": {
      "text/plain": [
       "<tf.Tensor: shape=(2, 3), dtype=float64, numpy=\n",
       "array([[1., 2., 3.],\n",
       "       [4., 5., 6.]])>"
      ]
     },
     "execution_count": 1,
     "metadata": {},
     "output_type": "execute_result"
    }
   ],
   "execution_count": 1
  },
  {
   "cell_type": "code",
   "metadata": {
    "ExecuteTime": {
     "end_time": "2025-04-05T07:49:00.308972Z",
     "start_time": "2025-04-05T07:49:00.244966Z"
    }
   },
   "source": [
    "print(X + 10)\n",
    "print(X + Y)\n",
    "print(X * Y)\n",
    "print(tf.matmul(X, tf.transpose(Y)))\n",
    "print(tf.square(X))\n",
    "print(tf.exp(X))\n",
    "print(tf.reduce_sum(X))"
   ],
   "outputs": [
    {
     "name": "stdout",
     "output_type": "stream",
     "text": [
      "tf.Tensor(\n",
      "[[11. 12. 13.]\n",
      " [14. 15. 16.]], shape=(2, 3), dtype=float64)\n",
      "tf.Tensor(\n",
      "[[ 3.  5.  7.]\n",
      " [ 9. 11. 13.]], shape=(2, 3), dtype=float64)\n",
      "tf.Tensor(\n",
      "[[ 2.  6. 12.]\n",
      " [20. 30. 42.]], shape=(2, 3), dtype=float64)\n",
      "tf.Tensor(\n",
      "[[20. 38.]\n",
      " [47. 92.]], shape=(2, 2), dtype=float64)\n",
      "tf.Tensor(\n",
      "[[ 1.  4.  9.]\n",
      " [16. 25. 36.]], shape=(2, 3), dtype=float64)\n",
      "tf.Tensor(\n",
      "[[  2.71828183   7.3890561   20.08553692]\n",
      " [ 54.59815003 148.4131591  403.42879349]], shape=(2, 3), dtype=float64)\n",
      "tf.Tensor(21.0, shape=(), dtype=float64)\n"
     ]
    }
   ],
   "execution_count": 2
  },
  {
   "cell_type": "code",
   "metadata": {
    "ExecuteTime": {
     "end_time": "2025-03-22T12:14:55.235601Z",
     "start_time": "2025-03-22T12:14:55.202492Z"
    }
   },
   "source": [
    "Z = tf.Variable([[2, 2, 2], [2, 2, 2]], dtype=tf.float64)\n",
    "Z"
   ],
   "outputs": [
    {
     "data": {
      "text/plain": [
       "<tf.Variable 'Variable:0' shape=(2, 3) dtype=float64, numpy=\n",
       "array([[2., 2., 2.],\n",
       "       [2., 2., 2.]])>"
      ]
     },
     "execution_count": 3,
     "metadata": {},
     "output_type": "execute_result"
    }
   ],
   "execution_count": 3
  },
  {
   "cell_type": "code",
   "metadata": {
    "ExecuteTime": {
     "end_time": "2025-03-22T12:14:57.864672Z",
     "start_time": "2025-03-22T12:14:57.826729Z"
    }
   },
   "source": [
    "Z.assign(X)\n",
    "Z[1, 1].assign(12)\n",
    "Z.assign_add(Y) # +=\n",
    "Z.assign_sub(X) # -=\n",
    "Z"
   ],
   "outputs": [
    {
     "data": {
      "text/plain": [
       "<tf.Variable 'Variable:0' shape=(2, 3) dtype=float64, numpy=\n",
       "array([[ 2.,  3.,  4.],\n",
       "       [ 5., 13.,  7.]])>"
      ]
     },
     "execution_count": 4,
     "metadata": {},
     "output_type": "execute_result"
    }
   ],
   "execution_count": 4
  },
  {
   "cell_type": "markdown",
   "metadata": {},
   "source": [
    "## GradientTape"
   ]
  },
  {
   "cell_type": "code",
   "metadata": {
    "ExecuteTime": {
     "end_time": "2025-03-22T12:15:02.173461Z",
     "start_time": "2025-03-22T12:15:02.124608Z"
    }
   },
   "source": [
    "def f(x1, x2):\n",
    "    return 2. * tf.square(x1) + 3. * x1 + 4. * x2 + 5.\n",
    "\n",
    "x1 = tf.Variable(3.)\n",
    "x2 = tf.Variable(4.)\n",
    "\n",
    "with tf.GradientTape() as tape:\n",
    "    y = f(x1, x2)\n",
    "\n",
    "dy_dx1, dy_dx2 = tape.gradient(y, [x1, x2])\n",
    "print(dy_dx1, dy_dx2)"
   ],
   "outputs": [
    {
     "name": "stdout",
     "output_type": "stream",
     "text": [
      "tf.Tensor(15.0, shape=(), dtype=float32) tf.Tensor(4.0, shape=(), dtype=float32)\n"
     ]
    }
   ],
   "execution_count": 5
  },
  {
   "cell_type": "markdown",
   "metadata": {},
   "source": [
    "## Zadanie 1\n",
    "Zastosuj regułę łańcuchową aby obliczyć $\\frac{\\partial y}{\\partial x_1}$ i $\\frac{\\partial y}{\\partial x_2}$ dla:\n",
    "1. $y = \\sigma(f(x_1, x_2))$, gdzie $f(x_1, x_2)= 2 x_1 + 3 x_2$ i $\\sigma(x)=\\frac{e^x}{1 + e^x}$,\n",
    "2. $y = g(f(x_1, x_2))$, gdzie $f(x_1, x_2)= x_1^2 + 2 x_2$ i $g(x)=\\sin x$.\n",
    "\n",
    "Następnie oblicz pochodne funkji za pomocą `GradientTape` i porównaj wyniki. "
   ]
  },
  {
   "cell_type": "code",
   "metadata": {
    "ExecuteTime": {
     "end_time": "2025-04-05T11:31:16.483197Z",
     "start_time": "2025-04-05T11:31:16.441870Z"
    }
   },
   "source": [
    "import tensorflow as tf\n",
    "import numpy as np\n",
    "def sigma(x):\n",
    "    return 1. / (1. + tf.exp(-x))\n",
    "\n",
    "def f(x1, x2):\n",
    "    return 2. * x1 + 3. * x2\n",
    "\n",
    "def fTens(x1, x2):\n",
    "    tf.square(x1) + 2. * x2\n",
    "\n",
    "\n",
    "def F(x1, x2):\n",
    "    return sigma(f(x1, x2))\n",
    "\n",
    "def FTens(x1, x2):\n",
    "    return sigma(fTens(x1, x2))\n",
    "\n",
    "def F_prime(x1, x2):\n",
    "    dy_dx1 = 2. * sigma(f(x1, x2)) * (1 - sigma(f(x1, x2)))\n",
    "    dy_dx2 = 3. * sigma(f(x1, x2)) * (1 - sigma(f(x1, x2)))\n",
    "    return float(dy_dx1), float(dy_dx2)\n",
    "\n",
    "def F_prime_tf(x1, x2):\n",
    "    with tf.GradientTape() as tape:\n",
    "        y = F(x1, x2)\n",
    "\n",
    "    dy_dx1, dy_dx2 = tape.gradient(y, [x1, x2])\n",
    "    return float(dy_dx1), float(dy_dx2)\n",
    "\n",
    "x1 = tf.Variable(-2.)\n",
    "x2 = tf.Variable(1.)\n",
    "\n",
    "print(F_prime(x1, x2))\n",
    "print(F_prime_tf(x1, x2))\n",
    "\n",
    "x1_val = -2.0\n",
    "x2_val = 1.0\n",
    "x1_tf = tf.Variable(x1_val)\n",
    "x2_tf = tf.Variable(x2_val)\n",
    "\n",
    "# --- Obliczenia ---\n",
    "dy_dx1_anal, dy_dx2_anal = F_prime(x1_val, x2_val)\n",
    "dy_dx1_tf, dy_dx2_tf = F_prime_tf(x1_tf, x2_tf)\n",
    "\n",
    "print(\"=== PORÓWNANIE POCHODNYCH ===\")\n",
    "print(f\"x1 = {x1_val}, x2 = {x2_val}\")\n",
    "print()\n",
    "print(\" Analitycznie (reguła łańcuchowa):\")\n",
    "print(f\"∂y/∂x1 = {dy_dx1_anal:.6f}\")\n",
    "print(f\"∂y/∂x2 = {dy_dx2_anal:.6f}\")\n",
    "print()\n",
    "print(\"TensorFlow (GradientTape):\")\n",
    "print(f\"∂y/∂x1 = {dy_dx1_tf:.6f}\")\n",
    "print(f\"∂y/∂x2 = {dy_dx2_tf:.6f}\")"
   ],
   "outputs": [
    {
     "name": "stdout",
     "output_type": "stream",
     "text": [
      "(0.3932238817214966, 0.5898358821868896)\n",
      "(0.3932238817214966, 0.5898358225822449)\n",
      "=== PORÓWNANIE POCHODNYCH ===\n",
      "x1 = -2.0, x2 = 1.0\n",
      "\n",
      " Analitycznie (reguła łańcuchowa):\n",
      "∂y/∂x1 = 0.393224\n",
      "∂y/∂x2 = 0.589836\n",
      "\n",
      "TensorFlow (GradientTape):\n",
      "∂y/∂x1 = 0.393224\n",
      "∂y/∂x2 = 0.589836\n"
     ]
    }
   ],
   "execution_count": 7
  },
  {
   "cell_type": "markdown",
   "metadata": {},
   "source": [
    "## Zadanie 2\n",
    "\n",
    "1. Zmodyfikuj implementację perceptronu z Ćwiczeń 1. tak, aby stosowała sigmoidalną funkcję aktywacji. \n",
    "2. Zmodyfikuj poniższą przykładową implementację perceptronu tak aby, stosowała `GradientTape` zamiast wzorów do obliczania gradientów."
   ]
  },
  {
   "cell_type": "code",
   "metadata": {
    "ExecuteTime": {
     "end_time": "2025-04-05T11:32:21.629392Z",
     "start_time": "2025-04-05T11:32:21.606017Z"
    }
   },
   "source": [
    "import numpy as np\n",
    "import tensorflow as tf\n",
    "\n",
    "# Funkcja aktywacji: sigmoida\n",
    "def sigma(z):\n",
    "    return 1. / (1. + tf.exp(-z))\n",
    "\n",
    "class Perceptron:\n",
    "    def __init__(self, learning_rate=0.01, epochs=100):\n",
    "        self.learning_rate = learning_rate\n",
    "        self.epochs = epochs\n",
    "\n",
    "    def predict(self, X):\n",
    "        Z = tf.linalg.matvec(X, self.weights) + self.bias\n",
    "        return sigma(Z)\n",
    "\n",
    "    def fit(self, X, y):\n",
    "        self.weights = tf.Variable(np.random.rand(X.shape[1]), dtype=tf.float32)\n",
    "        self.bias = tf.Variable(np.random.rand(), dtype=tf.float32)\n",
    "\n",
    "        X = tf.constant(X, dtype=tf.float32)\n",
    "        y = tf.constant(y, dtype=tf.float32)\n",
    "\n",
    "        for _ in range(self.epochs):\n",
    "            with tf.GradientTape() as tape:\n",
    "                Z = tf.linalg.matvec(X, self.weights) + self.bias\n",
    "                y_pred = sigma(Z)\n",
    "                loss = tf.reduce_sum(tf.square(y - y_pred))  # MSE\n",
    "\n",
    "            gradients = tape.gradient(loss, [self.weights, self.bias])\n",
    "            self.weights.assign_sub(self.learning_rate * gradients[0])\n",
    "            self.bias.assign_sub(self.learning_rate * gradients[1])\n"
   ],
   "outputs": [],
   "execution_count": 8
  },
  {
   "cell_type": "code",
   "metadata": {
    "ExecuteTime": {
     "end_time": "2025-04-05T11:39:34.360765Z",
     "start_time": "2025-04-05T11:39:33.882533Z"
    }
   },
   "source": [
    "from sklearn.datasets import load_breast_cancer\n",
    "from sklearn.preprocessing import scale\n",
    "\n",
    "X, y = load_breast_cancer(return_X_y=True)\n",
    "X = scale(X)\n",
    "\n",
    "X = tf.constant(X, dtype=tf.float32)\n",
    "\n",
    "perceptron = Perceptron(learning_rate=0.01, epochs=100)\n",
    "perceptron.fit(X, y)\n",
    "y_pred = perceptron.predict(X) >= 0.5\n",
    "print(np.mean(y_pred == y))"
   ],
   "outputs": [
    {
     "name": "stdout",
     "output_type": "stream",
     "text": [
      "0.9876977152899824\n"
     ]
    }
   ],
   "execution_count": 10
  }
 ],
 "metadata": {
  "kernelspec": {
   "display_name": "base",
   "language": "python",
   "name": "python3"
  },
  "language_info": {
   "codemirror_mode": {
    "name": "ipython",
    "version": 3
   },
   "file_extension": ".py",
   "mimetype": "text/x-python",
   "name": "python",
   "nbconvert_exporter": "python",
   "pygments_lexer": "ipython3",
   "version": "3.11.10"
  }
 },
 "nbformat": 4,
 "nbformat_minor": 2
}
