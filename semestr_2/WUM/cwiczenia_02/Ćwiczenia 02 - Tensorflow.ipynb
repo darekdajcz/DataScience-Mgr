{
 "cells": [
  {
   "cell_type": "markdown",
   "metadata": {},
   "source": [
    "# Tensorflow"
   ]
  },
  {
   "cell_type": "code",
   "metadata": {
    "ExecuteTime": {
     "end_time": "2025-03-22T12:14:36.390067Z",
     "start_time": "2025-03-22T12:14:30.708388Z"
    }
   },
   "source": [
    "import tensorflow as tf\n",
    "X = tf.constant([[1, 2, 3], [4, 5, 6]], dtype=tf.float64)\n",
    "Y = tf.constant([[2, 3, 4], [5, 6, 7]], dtype=tf.float64)\n",
    "X"
   ],
   "outputs": [
    {
     "data": {
      "text/plain": [
       "<tf.Tensor: shape=(2, 3), dtype=float64, numpy=\n",
       "array([[1., 2., 3.],\n",
       "       [4., 5., 6.]])>"
      ]
     },
     "execution_count": 1,
     "metadata": {},
     "output_type": "execute_result"
    }
   ],
   "execution_count": 1
  },
  {
   "cell_type": "code",
   "metadata": {
    "ExecuteTime": {
     "end_time": "2025-03-22T12:14:41.783709Z",
     "start_time": "2025-03-22T12:14:41.742776Z"
    }
   },
   "source": [
    "print(X + 10)\n",
    "print(X + Y)\n",
    "print(X * Y)\n",
    "print(tf.matmul(X, tf.transpose(Y)))\n",
    "print(tf.square(X))\n",
    "print(tf.exp(X))\n",
    "print(tf.reduce_sum(X))"
   ],
   "outputs": [
    {
     "name": "stdout",
     "output_type": "stream",
     "text": [
      "tf.Tensor(\n",
      "[[11. 12. 13.]\n",
      " [14. 15. 16.]], shape=(2, 3), dtype=float64)\n",
      "tf.Tensor(\n",
      "[[ 3.  5.  7.]\n",
      " [ 9. 11. 13.]], shape=(2, 3), dtype=float64)\n",
      "tf.Tensor(\n",
      "[[ 2.  6. 12.]\n",
      " [20. 30. 42.]], shape=(2, 3), dtype=float64)\n",
      "tf.Tensor(\n",
      "[[20. 38.]\n",
      " [47. 92.]], shape=(2, 2), dtype=float64)\n",
      "tf.Tensor(\n",
      "[[ 1.  4.  9.]\n",
      " [16. 25. 36.]], shape=(2, 3), dtype=float64)\n",
      "tf.Tensor(\n",
      "[[  2.71828183   7.3890561   20.08553692]\n",
      " [ 54.59815003 148.4131591  403.42879349]], shape=(2, 3), dtype=float64)\n",
      "tf.Tensor(21.0, shape=(), dtype=float64)\n"
     ]
    }
   ],
   "execution_count": 2
  },
  {
   "cell_type": "code",
   "metadata": {
    "ExecuteTime": {
     "end_time": "2025-03-22T12:14:55.235601Z",
     "start_time": "2025-03-22T12:14:55.202492Z"
    }
   },
   "source": [
    "Z = tf.Variable([[2, 2, 2], [2, 2, 2]], dtype=tf.float64)\n",
    "Z"
   ],
   "outputs": [
    {
     "data": {
      "text/plain": [
       "<tf.Variable 'Variable:0' shape=(2, 3) dtype=float64, numpy=\n",
       "array([[2., 2., 2.],\n",
       "       [2., 2., 2.]])>"
      ]
     },
     "execution_count": 3,
     "metadata": {},
     "output_type": "execute_result"
    }
   ],
   "execution_count": 3
  },
  {
   "cell_type": "code",
   "metadata": {
    "ExecuteTime": {
     "end_time": "2025-03-22T12:14:57.864672Z",
     "start_time": "2025-03-22T12:14:57.826729Z"
    }
   },
   "source": [
    "Z.assign(X)\n",
    "Z[1, 1].assign(12)\n",
    "Z.assign_add(Y) # +=\n",
    "Z.assign_sub(X) # -=\n",
    "Z"
   ],
   "outputs": [
    {
     "data": {
      "text/plain": [
       "<tf.Variable 'Variable:0' shape=(2, 3) dtype=float64, numpy=\n",
       "array([[ 2.,  3.,  4.],\n",
       "       [ 5., 13.,  7.]])>"
      ]
     },
     "execution_count": 4,
     "metadata": {},
     "output_type": "execute_result"
    }
   ],
   "execution_count": 4
  },
  {
   "cell_type": "markdown",
   "metadata": {},
   "source": [
    "## GradientTape"
   ]
  },
  {
   "cell_type": "code",
   "metadata": {
    "ExecuteTime": {
     "end_time": "2025-03-22T12:15:02.173461Z",
     "start_time": "2025-03-22T12:15:02.124608Z"
    }
   },
   "source": [
    "def f(x1, x2):\n",
    "    return 2. * tf.square(x1) + 3. * x1 + 4. * x2 + 5.\n",
    "\n",
    "x1 = tf.Variable(3.)\n",
    "x2 = tf.Variable(4.)\n",
    "\n",
    "with tf.GradientTape() as tape:\n",
    "    y = f(x1, x2)\n",
    "\n",
    "dy_dx1, dy_dx2 = tape.gradient(y, [x1, x2])\n",
    "print(dy_dx1, dy_dx2)"
   ],
   "outputs": [
    {
     "name": "stdout",
     "output_type": "stream",
     "text": [
      "tf.Tensor(15.0, shape=(), dtype=float32) tf.Tensor(4.0, shape=(), dtype=float32)\n"
     ]
    }
   ],
   "execution_count": 5
  },
  {
   "cell_type": "markdown",
   "metadata": {},
   "source": [
    "## Zadanie 1\n",
    "Zastosuj regułę łańcuchową aby obliczyć $\\frac{\\partial y}{\\partial x_1}$ i $\\frac{\\partial y}{\\partial x_2}$ dla:\n",
    "1. $y = \\sigma(f(x_1, x_2))$, gdzie $f(x_1, x_2)= 2 x_1 + 3 x_2$ i $\\sigma(x)=\\frac{e^x}{1 + e^x}$,\n",
    "2. $y = g(f(x_1, x_2))$, gdzie $f(x_1, x_2)= x_1^2 + 2 x_2$ i $g(x)=\\sin x$.\n",
    "\n",
    "Następnie oblicz pochodne funkji za pomocą `GradientTape` i porównaj wyniki. "
   ]
  },
  {
   "cell_type": "code",
   "execution_count": 19,
   "metadata": {},
   "outputs": [
    {
     "name": "stdout",
     "output_type": "stream",
     "text": [
      "(0.3932238817214966, 0.5898358821868896)\n",
      "(0.3932238817214966, 0.5898358225822449)\n"
     ]
    }
   ],
   "source": [
    "import tensorflow as tf\n",
    "import numpy as np\n",
    "def sigma(x):\n",
    "    return 1. / (1. + tf.exp(-x))\n",
    "\n",
    "def f(x1, x2):\n",
    "    return 2. * x1 + 3. * x2\n",
    "\n",
    "def F(x1, x2):\n",
    "    return sigma(f(x1, x2))\n",
    "\n",
    "def F_prime(x1, x2):\n",
    "    dy_dx1 = 2. * sigma(f(x1, x2)) * (1 - sigma(f(x1, x2)))\n",
    "    dy_dx2 = 3. * sigma(f(x1, x2)) * (1 - sigma(f(x1, x2)))\n",
    "    return float(dy_dx1), float(dy_dx2)\n",
    "\n",
    "def F_prime_tf(x1, x2):\n",
    "    with tf.GradientTape() as tape:\n",
    "        y = F(x1, x2)\n",
    "\n",
    "    dy_dx1, dy_dx2 = tape.gradient(y, [x1, x2])\n",
    "    return float(dy_dx1), float(dy_dx2)\n",
    "\n",
    "x1 = tf.Variable(-2.)\n",
    "x2 = tf.Variable(1.)\n",
    "\n",
    "print(F_prime(x1, x2))\n",
    "print(F_prime_tf(x1, x2))\n"
   ]
  },
  {
   "cell_type": "markdown",
   "metadata": {},
   "source": [
    "## Zadanie 2\n",
    "\n",
    "1. Zmodyfikuj implementację perceptronu z Ćwiczeń 1. tak, aby stosowała sigmoidalną funkcję aktywacji. \n",
    "2. Zmodyfikuj poniższą przykładową implementację perceptronu tak aby, stosowała `GradientTape` zamiast wzorów do obliczania gradientów."
   ]
  },
  {
   "cell_type": "code",
   "execution_count": 8,
   "metadata": {},
   "outputs": [],
   "source": [
    "import numpy as np\n",
    "import tensorflow as tf\n",
    "\n",
    "def sigma(z):\n",
    "    return 1. / (1. + tf.exp(-z))\n",
    "\n",
    "class Perceptron:\n",
    "    def __init__(self, learning_rate=0.01, epochs=100):\n",
    "        self.learning_rate = learning_rate\n",
    "        self.epochs = epochs\n",
    "    \n",
    "    def predict(self, X):\n",
    "        Z = tf.linalg.matvec(X, self.weights) + self.bias\n",
    "        return sigma(Z)\n",
    "    \n",
    "    def fit(self, X, y):\n",
    "        self.weights = tf.Variable(np.random.rand(X.shape[1]), dtype=tf.float32)\n",
    "        self.bias = tf.Variable(np.random.rand(), dtype=tf.float32)\n",
    "\n",
    "        X = tf.constant(X, dtype=tf.float32)\n",
    "\n",
    "        for _ in range(self.epochs):\n",
    "            y_pred = self.predict(X)\n",
    "            loss = tf.reduce_sum(tf.square(y - y_pred))\n",
    "\n",
    "            w_gradient = -tf.linalg.matvec(tf.transpose(X), (y - y_pred) * y_pred * (1. - y_pred))\n",
    "            b_gradient = -tf.reduce_sum((y - y_pred) * y_pred * (1. - y_pred))\n",
    "\n",
    "            self.weights.assign_sub(self.learning_rate * w_gradient)\n",
    "            self.bias.assign_sub(self.learning_rate * b_gradient)"
   ]
  },
  {
   "cell_type": "code",
   "execution_count": 9,
   "metadata": {},
   "outputs": [
    {
     "name": "stdout",
     "output_type": "stream",
     "text": [
      "0.9876977152899824\n"
     ]
    }
   ],
   "source": [
    "from sklearn.datasets import load_breast_cancer\n",
    "from sklearn.preprocessing import scale\n",
    "\n",
    "X, y = load_breast_cancer(return_X_y=True)\n",
    "X = scale(X)\n",
    "\n",
    "X = tf.constant(X, dtype=tf.float32)\n",
    "\n",
    "perceptron = Perceptron(learning_rate=0.01, epochs=100)\n",
    "perceptron.fit(X, y)\n",
    "y_pred = perceptron.predict(X) >= 0.5\n",
    "print(np.mean(y_pred == y))"
   ]
  }
 ],
 "metadata": {
  "kernelspec": {
   "display_name": "base",
   "language": "python",
   "name": "python3"
  },
  "language_info": {
   "codemirror_mode": {
    "name": "ipython",
    "version": 3
   },
   "file_extension": ".py",
   "mimetype": "text/x-python",
   "name": "python",
   "nbconvert_exporter": "python",
   "pygments_lexer": "ipython3",
   "version": "3.11.10"
  }
 },
 "nbformat": 4,
 "nbformat_minor": 2
}
