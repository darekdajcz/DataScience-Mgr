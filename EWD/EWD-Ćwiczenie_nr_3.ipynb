{
 "cells": [
  {
   "cell_type": "markdown",
   "metadata": {
    "id": "gD-CBv2zFs-E"
   },
   "source": [
    "---\n",
    "#Eksploracja i Wizualizacja Danych(EWD)\n",
    "\n",
    "#Ćwiczenia numer 3 (09.11.2024r.)\n",
    "---"
   ]
  },
  {
   "cell_type": "markdown",
   "metadata": {
    "id": "ChIeaLnHGLLh"
   },
   "source": [
    "---\n",
    "##Zadanie 1 (Wizualizacja danych) - 1 punkt za aktywność\n",
    "---\n",
    "\n",
    "**a)** Wgrać zbiór danych *inflation-gdp* ze strony:\n",
    "\n",
    "https://datahub.io/core/inflation\n",
    "\n",
    "**b)** Wydrukować statystyki dotyczące analizowanego zbioru.\n",
    "\n",
    "**c)** Wygenerować wykres przedstawiający zmieniające się wartości wskaźnika inflacji dla wartości PKB dla całej Unii Europejskiej w latach 1971 - 2016.\n",
    "\n",
    "**d)** Wygenerować 3 oddzielne poziome wykresy słupkowe uśrednionej wartości wskaźnika inflacji dla wartości PKB dla poszczególnych państw zaczynających się na litery \"P\", \"S\", \"T\".\n",
    "\n",
    "**e)** Wygenerować stosowny rodzaj wykresu wizualizujący wartość średnią, wariancję, wartość maksymalną, wartość minimalną wskaźnika inflacji dla wartości PKB dla Polski w latach 1991 - 2016.\n",
    "\n",
    "(**nota:** przy generowaniu wykresu proszę kierować się wytycznymi podanymi na Wykładzie dotyczącymi aspektów estetyki generowanych wykresów - pod tym kątem będą oceniane wygenerowane wykresy w kontekście ich kompletności)\n"
   ]
  },
  {
   "cell_type": "markdown",
   "metadata": {
    "id": "3y4V36bwSMQf"
   },
   "source": [
    "Rozwiązanie podpunktu **(a)**"
   ]
  },
  {
   "cell_type": "code",
   "execution_count": null,
   "metadata": {
    "id": "IpLPQvwIFqlP"
   },
   "outputs": [],
   "source": []
  },
  {
   "cell_type": "markdown",
   "metadata": {
    "id": "N6cOEDitSN78"
   },
   "source": [
    "Rozwiązanie podpunktu **(b)**"
   ]
  },
  {
   "cell_type": "code",
   "execution_count": null,
   "metadata": {
    "id": "r_ejiEiwOdwd"
   },
   "outputs": [],
   "source": []
  },
  {
   "cell_type": "markdown",
   "metadata": {
    "id": "V6ncDKrTSOzz"
   },
   "source": [
    "Rozwiązanie podpunktu **(c)**"
   ]
  },
  {
   "cell_type": "code",
   "execution_count": null,
   "metadata": {
    "id": "R_pdvZzAOeGk"
   },
   "outputs": [],
   "source": []
  },
  {
   "cell_type": "markdown",
   "metadata": {
    "id": "HCcVo9iSSPqM"
   },
   "source": [
    "Rozwiązanie podpunktu **(d)**"
   ]
  },
  {
   "cell_type": "code",
   "execution_count": null,
   "metadata": {
    "id": "D5TbI_ImOecv"
   },
   "outputs": [],
   "source": []
  },
  {
   "cell_type": "markdown",
   "metadata": {
    "id": "RAoVskdRSSDn"
   },
   "source": [
    "Rozwiązanie podpunktu **(e)**"
   ]
  },
  {
   "cell_type": "code",
   "execution_count": null,
   "metadata": {
    "id": "fRDfeOZTOfFL"
   },
   "outputs": [],
   "source": []
  },
  {
   "cell_type": "markdown",
   "metadata": {
    "id": "Z9tb1280GLmw"
   },
   "source": [
    "---\n",
    "##Zadanie 2 (Oczyszczanie zbioru danych) - 1 punkt za aktywność\n",
    "\n",
    "---\n",
    "\n",
    "**a)** Pobrać *folder* zip zawierający pliki typu *csv* ze strony:\n",
    "\n",
    "https://data.worldbank.org/country/poland?view=chart\n",
    "\n",
    "z pobranego folderu  proszę operować na pliku o nazwie roboczej:\n",
    "\n",
    "*API_POL_DS2_en_csv_v2_24804*\n",
    "\n",
    "\n",
    "**b)** Wygenerować opis zawartości pliku.\n",
    "\n",
    "**c)** Zredukować zbiór danych do rekordów dotyczących lat 2000 - 2020.\n",
    "\n",
    "**d)** Wyznaczyć liczbę pustych pól w każdym z poszczególnych atrybutów zredukowanego zbioru danych z podpunktu (c).\n",
    "\n",
    "**e)** Usunąć kolumny (nie obserwacje) zredukowanego zbioru danych mające więcej niż 10% pustych pól. W pozostałych kolumnach proszę zapełnić puste pola wartością będącą średnią arytmetyczną pomiędzy dwiema najbliższymi niezerowymi rekordami (w przypadkach brzegowych ograniczyć się do pojedynczej najbliższej niezerowej wartości).\n",
    "\n",
    "**f**) Wygenerować opis zredukowanego zbioru danych po modyfikacjach z podpunktów (d), (e)."
   ]
  },
  {
   "cell_type": "markdown",
   "metadata": {
    "id": "-LULqqoFST2X"
   },
   "source": [
    "Rozwiązanie podpunktu **(a)**"
   ]
  },
  {
   "cell_type": "code",
   "execution_count": null,
   "metadata": {
    "id": "GJQ9PQSAGSQQ"
   },
   "outputs": [],
   "source": []
  },
  {
   "cell_type": "markdown",
   "metadata": {
    "id": "dAWR0Jw6SUvk"
   },
   "source": [
    "Rozwiązanie podpunktu **(b)**"
   ]
  },
  {
   "cell_type": "code",
   "execution_count": null,
   "metadata": {
    "id": "vkyjmA67Oh1J"
   },
   "outputs": [],
   "source": []
  },
  {
   "cell_type": "markdown",
   "metadata": {
    "id": "Ody8eWcCSVgz"
   },
   "source": [
    "Rozwiązanie podpunktu **(c)**"
   ]
  },
  {
   "cell_type": "code",
   "execution_count": null,
   "metadata": {
    "id": "pqdsWgvPOiIH"
   },
   "outputs": [],
   "source": []
  },
  {
   "cell_type": "markdown",
   "metadata": {
    "id": "CVpW-snSSWsT"
   },
   "source": [
    "Rozwiązanie podpunktu **(d)**"
   ]
  },
  {
   "cell_type": "code",
   "execution_count": null,
   "metadata": {
    "id": "Mj2OVN6EOiZr"
   },
   "outputs": [],
   "source": []
  },
  {
   "cell_type": "markdown",
   "metadata": {
    "id": "SzEkr7pJSXdu"
   },
   "source": [
    "Rozwiązanie podpunktu **(e)**"
   ]
  },
  {
   "cell_type": "code",
   "execution_count": null,
   "metadata": {
    "id": "w8AGatMFOirE"
   },
   "outputs": [],
   "source": []
  },
  {
   "cell_type": "markdown",
   "metadata": {
    "id": "HrAl_pMMSYL8"
   },
   "source": [
    "Rozwiązanie podpunktu **(f)**"
   ]
  },
  {
   "cell_type": "code",
   "execution_count": null,
   "metadata": {
    "id": "Va3eEts4Oi8t"
   },
   "outputs": [],
   "source": []
  },
  {
   "cell_type": "markdown",
   "metadata": {
    "id": "soZGdEVKGL-Y"
   },
   "source": [
    "---\n",
    "##Zadanie 3 (Regresja liniowa - wstęp) - 1 punkt za aktywność\n",
    "---\n",
    "\n",
    "**a)** Pobrać plik typu *csv* ze strony:\n",
    "\n",
    "https://datacatalog.worldbank.org/search/dataset/0037996/Statistical-Performance-Indicators\n",
    "\n",
    "**b)** Wygenerować opis zawartości pobranego zbioru danych.\n",
    "\n",
    "**c)** Usunąć ze zbioru danych kolumny zawierające kategoryczne atrybuty za wyjątkiem:\n",
    "\n",
    "  * 1) kolumny zawierającej atrybut pełnej nazwy państwa,\n",
    "\n",
    "  * 2) kolumny zawierającej atrybut określający słowny stopień generowanego dochodu poszczególnych państw (zastosować do tej kolumny stosowną kwantyzację).\n",
    "\n",
    "**d)** Uczynić atrybut *SPI.INDEX* atrybutem decyzyjnym (uczynić tę kolumnę ostatnią w rozpatrywanym zmodyfikowanym zbiorze danych).\n",
    "\n",
    "**e)** Przeprowadzić liniową regresję względem wytworzonego zbioru danych ustalając podział na zbiór testowy i walidacyjny w stosunku 80%:20 %.\n",
    "\n",
    "**f)** Wydrukować wartości liczbowe charakteryzujące wytworzony model z dokładnością do 4 cyfr znaczących.\n"
   ]
  },
  {
   "cell_type": "markdown",
   "metadata": {
    "id": "X8V7dDM0Sa0M"
   },
   "source": [
    "Rozwiązanie podpunktu **(a)**"
   ]
  },
  {
   "cell_type": "code",
   "execution_count": null,
   "metadata": {
    "id": "033NfDU7GTW6"
   },
   "outputs": [],
   "source": []
  },
  {
   "cell_type": "markdown",
   "metadata": {
    "id": "-Tk-2G9USb3Y"
   },
   "source": [
    "Rozwiązanie podpunktu **(b)**"
   ]
  },
  {
   "cell_type": "code",
   "execution_count": null,
   "metadata": {
    "id": "084x70OmSE_8"
   },
   "outputs": [],
   "source": []
  },
  {
   "cell_type": "markdown",
   "metadata": {
    "id": "SSwweO91ScjU"
   },
   "source": [
    "Rozwiązanie podpunktu **(c)**"
   ]
  },
  {
   "cell_type": "code",
   "execution_count": null,
   "metadata": {
    "id": "F85rRfMlSF1Y"
   },
   "outputs": [],
   "source": []
  },
  {
   "cell_type": "markdown",
   "metadata": {
    "id": "BD6zeXqfSeQb"
   },
   "source": [
    "Rozwiązanie podpunktu **(d)**"
   ]
  },
  {
   "cell_type": "code",
   "execution_count": null,
   "metadata": {
    "id": "qNAmjWv-SFtM"
   },
   "outputs": [],
   "source": []
  },
  {
   "cell_type": "markdown",
   "metadata": {
    "id": "8mGr9DGDSfpa"
   },
   "source": [
    "Rozwiązanie podpunktu **(e)**"
   ]
  },
  {
   "cell_type": "code",
   "execution_count": null,
   "metadata": {
    "id": "xkARlI98SFkM"
   },
   "outputs": [],
   "source": []
  },
  {
   "cell_type": "markdown",
   "metadata": {
    "id": "_DrbSI9sSgYQ"
   },
   "source": [
    "Rozwiązanie podpunktu **(f)**"
   ]
  },
  {
   "cell_type": "code",
   "execution_count": null,
   "metadata": {
    "id": "0nXkE4nqSFYM"
   },
   "outputs": [],
   "source": []
  }
 ],
 "metadata": {
  "colab": {
   "authorship_tag": "ABX9TyN+URUNFEkD/EDHLRR8CXn4",
   "provenance": []
  },
  "kernelspec": {
   "display_name": "Python 3 (ipykernel)",
   "language": "python",
   "name": "python3"
  },
  "language_info": {
   "codemirror_mode": {
    "name": "ipython",
    "version": 3
   },
   "file_extension": ".py",
   "mimetype": "text/x-python",
   "name": "python",
   "nbconvert_exporter": "python",
   "pygments_lexer": "ipython3",
   "version": "3.10.13"
  }
 },
 "nbformat": 4,
 "nbformat_minor": 4
}
