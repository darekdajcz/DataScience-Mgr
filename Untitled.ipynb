{
 "cells": [
  {
   "cell_type": "code",
   "execution_count": 2,
   "id": "42514b8d-8413-4717-9484-b6dcf300f45b",
   "metadata": {},
   "outputs": [
    {
     "name": "stdout",
     "output_type": "stream",
     "text": [
      "/Users/darekdajcz/Desktop/Uczenie_maszynowe_Python/Kurs_DataScience\n"
     ]
    }
   ],
   "source": [
    "#import inline\n",
    "import numpy as np\n",
    "import pandas as pd\n",
    "import matplotlib.pyplot as plt\n",
    "import seaborn; seaborn.set()\n",
    "\n",
    "# data = pd.read_csv('/Users/darekdajcz/Downloads/OneDrive_1_12.10.2024/Seattle2014.csv')\n",
    "data = pd.read_csv('./data/Seattle2014.csv')\n",
    "\n",
    "\n",
    "import os\n",
    "print(os.getcwd())\n",
    "\n"
   ]
  },
  {
   "cell_type": "code",
   "execution_count": null,
   "id": "c161c4c1-0367-4f1d-a815-b236db169744",
   "metadata": {},
   "outputs": [],
   "source": []
  }
 ],
 "metadata": {
  "kernelspec": {
   "display_name": "Python 3 (ipykernel)",
   "language": "python",
   "name": "python3"
  },
  "language_info": {
   "codemirror_mode": {
    "name": "ipython",
    "version": 3
   },
   "file_extension": ".py",
   "mimetype": "text/x-python",
   "name": "python",
   "nbconvert_exporter": "python",
   "pygments_lexer": "ipython3",
   "version": "3.10.13"
  }
 },
 "nbformat": 4,
 "nbformat_minor": 5
}
