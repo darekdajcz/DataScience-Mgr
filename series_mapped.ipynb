{
 "cells": [
  {
   "cell_type": "code",
   "execution_count": 1,
   "id": "29c4ba46-6758-4dd7-bbf7-de7130a38422",
   "metadata": {
    "collapsed": true,
    "jupyter": {
     "outputs_hidden": true
    }
   },
   "outputs": [
    {
     "name": "stdout",
     "output_type": "stream",
     "text": [
      "Intel MKL WARNING: Support of Intel(R) Streaming SIMD Extensions 4.2 (Intel(R) SSE4.2) enabled only processors has been deprecated. Intel oneAPI Math Kernel Library 2025.0 will require Intel(R) Advanced Vector Extensions (Intel(R) AVX) instructions.\n",
      "Intel MKL WARNING: Support of Intel(R) Streaming SIMD Extensions 4.2 (Intel(R) SSE4.2) enabled only processors has been deprecated. Intel oneAPI Math Kernel Library 2025.0 will require Intel(R) Advanced Vector Extensions (Intel(R) AVX) instructions.\n"
     ]
    }
   ],
   "source": [
    "import pandas as pd\n",
    "import numpy as np\n",
    "import matplotlib.pyplot as plt\n",
    "import math as math"
   ]
  },
  {
   "cell_type": "code",
   "execution_count": 2,
   "id": "cb2d1274-9b3c-4851-a92f-ee8d060e2648",
   "metadata": {},
   "outputs": [
    {
     "data": {
      "text/plain": [
       "Andy       5\n",
       "Bob        3\n",
       "Chris      2\n",
       "Dirk       4\n",
       "Francis    3\n",
       "George     4\n",
       "Henry      4\n",
       "Ivan       5\n",
       "dtype: int64"
      ]
     },
     "execution_count": 2,
     "metadata": {},
     "output_type": "execute_result"
    }
   ],
   "source": [
    "team = pd.Series(data=[5,3,2,4,3,4,4,5],index=['Andy', 'Bob','Chris','Dirk','Francis','George','Henry','Ivan']) \n",
    "team"
   ]
  },
  {
   "cell_type": "code",
   "execution_count": 3,
   "id": "8872c6bc-2b72-4e79-a0b6-c26feb0824e2",
   "metadata": {},
   "outputs": [
    {
     "ename": "NameError",
     "evalue": "name 'data' is not defined",
     "output_type": "error",
     "traceback": [
      "\u001b[0;31m---------------------------------------------------------------------------\u001b[0m",
      "\u001b[0;31mNameError\u001b[0m                                 Traceback (most recent call last)",
      "Cell \u001b[0;32mIn[3], line 1\u001b[0m\n\u001b[0;32m----> 1\u001b[0m notes \u001b[38;5;241m=\u001b[39m pd\u001b[38;5;241m.\u001b[39mSeries(\u001b[43mdata\u001b[49m[\u001b[38;5;124m'\u001b[39m\u001b[38;5;124mC\u001b[39m\u001b[38;5;124m'\u001b[39m,\u001b[38;5;124m'\u001b[39m\u001b[38;5;124mB\u001b[39m\u001b[38;5;124m'\u001b[39m,\u001b[38;5;124m'\u001b[39m\u001b[38;5;124mA\u001b[39m\u001b[38;5;124m'\u001b[39m,\u001b[38;5;124m'\u001b[39m\u001b[38;5;124mA+\u001b[39m\u001b[38;5;124m'\u001b[39m,\u001b[38;5;124m'\u001b[39m\u001b[38;5;124mA++\u001b[39m\u001b[38;5;124m'\u001b[39m],index\u001b[38;5;241m=\u001b[39m[\u001b[38;5;241m1\u001b[39m,\u001b[38;5;241m2\u001b[39m,\u001b[38;5;241m3\u001b[39m,\u001b[38;5;241m4\u001b[39m,\u001b[38;5;241m5\u001b[39m])\n\u001b[1;32m      2\u001b[0m notes\n",
      "\u001b[0;31mNameError\u001b[0m: name 'data' is not defined"
     ]
    }
   ],
   "source": [
    "notes = pd.Series(data['C','B','A','A+','A++'],index=[1,2,3,4,5])\n",
    "notes"
   ]
  },
  {
   "cell_type": "code",
   "execution_count": 4,
   "id": "b7fa9540-a7a3-4e10-a605-3767dd0d6e48",
   "metadata": {},
   "outputs": [
    {
     "data": {
      "text/plain": [
       "1      C\n",
       "2      B\n",
       "3      A\n",
       "4     A+\n",
       "5    A++\n",
       "dtype: object"
      ]
     },
     "execution_count": 4,
     "metadata": {},
     "output_type": "execute_result"
    }
   ],
   "source": [
    "notes = pd.Series(data=['C','B','A','A+','A++'],index=[1,2,3,4,5])\n",
    "notes"
   ]
  },
  {
   "cell_type": "code",
   "execution_count": 5,
   "id": "408c6178-b605-485c-a13b-9b96ee79b6ec",
   "metadata": {},
   "outputs": [
    {
     "data": {
      "text/plain": [
       "Andy       A++\n",
       "Bob          A\n",
       "Chris        B\n",
       "Dirk        A+\n",
       "Francis      A\n",
       "George      A+\n",
       "Henry       A+\n",
       "Ivan       A++\n",
       "dtype: object"
      ]
     },
     "execution_count": 5,
     "metadata": {},
     "output_type": "execute_result"
    }
   ],
   "source": [
    " team.map(notes)"
   ]
  },
  {
   "cell_type": "code",
   "execution_count": 6,
   "id": "2a022f2f-55d1-4665-9289-91b21ba3a989",
   "metadata": {},
   "outputs": [],
   "source": [
    "notes_dict = {1:'C', 2:'B', 3:'A',4:'A+',5:'A++'}"
   ]
  },
  {
   "cell_type": "code",
   "execution_count": 7,
   "id": "9ecd7746-255e-42c3-a167-79859bdd03fc",
   "metadata": {},
   "outputs": [
    {
     "data": {
      "text/plain": [
       "{1: 'C', 2: 'B', 3: 'A', 4: 'A+', 5: 'A++'}"
      ]
     },
     "execution_count": 7,
     "metadata": {},
     "output_type": "execute_result"
    }
   ],
   "source": [
    "notes_dict"
   ]
  },
  {
   "cell_type": "code",
   "execution_count": 8,
   "id": "54039516-83ea-4378-8fa2-90879b2a56e9",
   "metadata": {},
   "outputs": [
    {
     "data": {
      "text/plain": [
       "Andy       A++\n",
       "Bob          A\n",
       "Chris        B\n",
       "Dirk        A+\n",
       "Francis      A\n",
       "George      A+\n",
       "Henry       A+\n",
       "Ivan       A++\n",
       "dtype: object"
      ]
     },
     "execution_count": 8,
     "metadata": {},
     "output_type": "execute_result"
    }
   ],
   "source": [
    "team.map(notes_dict)"
   ]
  },
  {
   "cell_type": "code",
   "execution_count": 9,
   "id": "90fadcb6-038f-4ce8-a402-314c327fc954",
   "metadata": {},
   "outputs": [],
   "source": [
    "teamNotes = team.map(notes_dict)\n"
   ]
  },
  {
   "cell_type": "code",
   "execution_count": 10,
   "id": "436bcc34-aa78-4f6c-9b9e-cb217ed3568f",
   "metadata": {},
   "outputs": [
    {
     "data": {
      "text/plain": [
       "Andy       A++\n",
       "Bob          A\n",
       "Chris        B\n",
       "Dirk        A+\n",
       "Francis      A\n",
       "George      A+\n",
       "Henry       A+\n",
       "Ivan       A++\n",
       "dtype: object"
      ]
     },
     "execution_count": 10,
     "metadata": {},
     "output_type": "execute_result"
    }
   ],
   "source": [
    "teamNotes"
   ]
  },
  {
   "cell_type": "code",
   "execution_count": null,
   "id": "35b0c455-8548-443f-8e38-4fde9d8ed0fc",
   "metadata": {},
   "outputs": [],
   "source": []
  }
 ],
 "metadata": {
  "kernelspec": {
   "display_name": "Python 3 (ipykernel)",
   "language": "python",
   "name": "python3"
  },
  "language_info": {
   "codemirror_mode": {
    "name": "ipython",
    "version": 3
   },
   "file_extension": ".py",
   "mimetype": "text/x-python",
   "name": "python",
   "nbconvert_exporter": "python",
   "pygments_lexer": "ipython3",
   "version": "3.10.13"
  }
 },
 "nbformat": 4,
 "nbformat_minor": 5
}
