import pandas as pd
import numpy as np
import matplotlib.pyplot as plt
import math as math


%matplotlib inline


pd.read_csv('./data/pokemon.csv')


plt.plot([1,2,3,4])
plt.ylabel('some numbers')
plt.show()


plt.plot([1,2,3,4],[1,4,9,16], 'ro')



t = np.arange(0., 5., 0.2)


t


plt.plot(t, t, 'r--', t, t**2, 'bs', t, t**3, 'g^')


Min = 0
Max = 4 * np.pi
Step = 0.1

x = np.arange(Min, Max, Step)
y = np.sin(x)

plt.plot(x, y)
plt.xlabel('angle')
plt.ylabel('sin(angle)')
plt.show()



