








import numpy as np
import pandas as pd
from sklearn.datasets import load_digits

digits = load_digits()

df_data = pd.DataFrame(digits.data)
df_data = df_data.iloc[:, :10]
print(df_data.head())
print(df_data.tail())






num_attributes = df_data.shape[1]
print("Liczba atrybutów:", num_attributes)

num_records = df_data.shape[0]
print("Liczba rekordów:", num_records)

types = df_data.dtypes
print("Typy:", types)

attr_ranges = df_data.agg(['min','max'])
print("Zakres:", attr_ranges)





























































