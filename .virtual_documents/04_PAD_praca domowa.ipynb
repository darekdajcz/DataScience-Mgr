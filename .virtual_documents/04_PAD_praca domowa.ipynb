


data = pd.read_csv('orders.csv',sep=';')












