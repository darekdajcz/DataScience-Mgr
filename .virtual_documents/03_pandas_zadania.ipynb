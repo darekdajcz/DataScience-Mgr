





import pandas as pd
import numpy as np


df["A"] = [
    1,
    2,
    3,
    4,
    5,
]
print(df)






# Tworzenie Dataframe ze słownika
'''
{'X':[78,85,96,80,86], 'Y':[84,94,89,83,86],'Z':[86,97,96,72,83]}
'''

df = pd.DataFrame({'X':[78,85,96,80,86], 'Y':[84,94,89,83,86],'Z':[86,97,96,72,83]})
print(df)


# Tworzenie Dataframe z podanymi indeksami

exam_data  = {'name': ['Anastasia', 'Dima', 'Katherine', 'James', 'Emily', 'Michael', 'Matthew', 'Laura', 'Kevin', 'Jonas'],
        'score': [12.5, 9, 16.5, np.nan, 9, 20, 14.5, np.nan, 8, 19],
        'attempts': [1, 3, 2, 3, 2, 3, 1, 1, 2, 1],
        'qualify': ['yes', 'no', 'yes', 'no', 'no', 'yes', 'yes', 'no', 'no', 'yes']}
labels = ['a', 'b', 'c', 'd', 'e', 'f', 'g', 'h', 'i', 'j']


df_2 = pd.DataFrame(exam_data, index=labels)
print(df_2)


# wyświetl 3 pierwsze wiersze ramki df_2
df_2.head(3)



# z ramki df_2 wyświetl jakie ma kolumny, a następnie wyświetl tylko kolumny score i qualify
df_2.columns
df_2["score"]
df_2.score
df_2[["score", "qualify"]]


# wyświetl wiersze tak gdzie było więcej niż 2 attempts
df_2[df_2.attempts > 2]


# wierszu d zmień score na 11.5 -> metoda .loc
df_2.loc[df_2.attempts > 2, 'name':'attempts']


# wyświetl sumę attempts
df_2['attempts'].sum()


# posortuj wartości po name, a następnie score, name rosnąco a score malejąco
df_2.sort_values(by=['name','score'], ascending=[True, False])


# usuń wiersze z wartościami nan, czy aby napewno wynik się zapisał?
df_2 = df_2.dropna()
df_2





# Na podstawie poniżeszego Dataframe pogrupuj uczniów wg szkoły (school_code)

student_data = pd.DataFrame({
    'school_code': ['s001','s002','s003','s001','s002','s004'],
    'class': ['V', 'V', 'VI', 'VI', 'V', 'VI'],
    'name': ['Alberto Franco','Gino Mcneill','Ryan Parkes', 'Eesha Hinton', 'Gino Mcneill', 'David Parkes'],
    'date_Of_Birth ': ['15/05/2002','17/05/2002','16/02/1999','25/09/1998','11/05/2002','15/09/1997'],
    'age': [12, 12, 13, 13, 14, 12],
    'height': [173, 192, 186, 167, 151, 159],
    'weight': [35, 32, 33, 30, 31, 32],
    'address': ['street1', 'street2', 'street3', 'street1', 'street2', 'street4']},
    index=['S1', 'S2', 'S3', 'S4', 'S5', 'S6'])

groups = student_data.groupby("school_code")

for name, group in groups:
    print("\nGroup:")
    print(name)
    print(group)


groups


# dla każdej szkoły podaj średni wiek, oraz min i max wiek
groups['age'].mean()



# zamień imiona i nazwiska studentów na wielkie litery
student_data['name'].str.upper()


# zmień nazwę kolumny address na street_name









my_dict = {
    'product' : ['avocado', 'bread', 'bun', 'tomato', 'potatoes', 'milk'],
    'price' : [2, 5, 7.0, 8, 12, 3.5],
    'department' : ['veggies', 'bakery', 'bakery', 'veggies', 'veggies', 'fridge']
}
data = pd.DataFrame(my_dict)
data





print(data.head(2))





data['price'] = (data['price'] * 1.19).round(2)
data






data






bakary_products = data[data['department'] == 'bakery']
bakary_products





bakery_filter = data['department'] == 'bakery'
no_bakary_products = data[~bakery_filter]
no_bakary_products






average_price_by_department = (
data
  .groupby('department')[['price']]
  .mean()
)

average_price_by_department





data.rename(
columns={
    'product':'produkt',
    'price': 'cena',
    'department': 'dział'
}, inplace=True
)
data








data = pd.read_csv('PAD_03_PD.csv',sep=';')
country_count = data['Country'].value_counts()
country_count
data





data['owned_goods'] = data[['owns_car','owns_TV','owns_house','owns_Phone']].sum(axis=1)
data






 avg_gender = (
data
  .groupby('gender')[['owned_goods']]
  .mean()
).round(2)


avg_gender
data





grouped_data = (
    data
    .groupby('Country')
    .agg(
        srednia_dobra=('owned_goods', lambda x: round(x.mean(), 2)),
        minimalny_wiek=('Age', 'min') 
    )
    .reset_index()
)

grouped_data
