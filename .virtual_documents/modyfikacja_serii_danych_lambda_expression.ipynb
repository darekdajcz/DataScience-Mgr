import pandas as pd
import numpy as np
import matplotlib.pyplot as plt
import math as math


pd.read_csv('./data/pokemon.csv')



pok = pd.read_csv('./data/pokemon.csv', usecols=['Type1', 'Name'], index_col='Name')



pd.read_csv('./data/pokemon.csv')



pok = pd.read_csv('./data/pokemon.csv', usecols=['Type 1', 'Name'], index_col='Name')


pok


pok(squeeze=True)


pok = pd.read_csv('./data/pokemon.csv', usecols=['Type 1', 'Name'], index_col='Name',squeeze=True)


pok = pd.read_csv('./data/pokemon.csv', usecols=['Name', 'Type 1'], index_col='Name', squeeze=True)



df = pd.read_csv('./data/pokemon.csv', usecols=['Name', 'Type 1'], index_col='Name')

# Przekształć wybraną kolumnę w Series
pok = df['Type 1']


pok





pok.head()


pokUpper = pok.str.upper() 


pokUpper


"TYPE:" + pok.str.upper()


pokWithType = "TYPE: " + pok.str.upper()


pokWithType


pokWithType.head()


pok.value_counts()


def ReplaceType(oldType):
    if oldType == "Grass" or oldType == "Ground":
        return "Nature"
    else: 
        return oldType
    


ReplaceType('Fire')


ReplaceType('Grass')


ReplaceType(pok.str)


pokNature = pok.apply(ReplaceType)


pokNature.head()


pokNature.value_counts()


pokLambda = pok.apply(lambda aText: aText.upper())


pokLambda.head()


pok.head()


pokLambda = pok.apply(lambda aText: aText.lower())


pokLambda


pokLambda = pok.apply(lambda aText: aText.title())


pokLambda




