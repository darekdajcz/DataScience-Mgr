data = pd.read_csv('PAD_03_PD.csv')


import pandas as pd
data = pd.read_csv('PAD_03_PD.csv')



print(data)
