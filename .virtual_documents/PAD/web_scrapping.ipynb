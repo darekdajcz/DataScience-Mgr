# https://pypi.org/project/selenium/
# https://pypi.org/project/beautifulsoup4/
!pip install selenium
!pip install beautifulsoup4


from selenium import webdriver
from selenium.webdriver.chrome.service import Service

download_service = Service()

driver = webdriver.Chrome(service=download_service)



driver.get(r"https://www.coffeedesk.pl/kawa/")


from selenium.webdriver.common.by import By
button_id = "CybotCookiebotDialogBodyLevelButtonLevelOptinAllowAll"

web_button = driver.find_element(by=By.ID, value=button_id)
web_button.click()


product_info_class = "product-info"
product_title_a_class = "product-name"
product_price_div_class = "product-price"

product_info_list = driver.find_elements(by=By.CLASS_NAME, value=product_info_class)
product_data = {}
for product in product_info_list:
    name_element = product.find_element(by=By.CLASS_NAME, value=product_title_a_class)
    price_element = product.find_elements(by=By.CLASS_NAME, value=product_price_div_class)
    # To handle if there is more price elements that expected 
    prices = []
    for price_i in price_element:
        price = price_i.text
        if price:
            prices.append(price)
    if len(price) > 0:
     print(name_element.get_attribute('title'), prices)
     product_data[name_element.get_attribute('title')] = prices


import json

with open("coffe_data.json", 'w') as file:
    json.dump(product_data, file)


len(product_data)


from bs4 import BeautifulSoup

html_coffe = driver.page_source

soup = BeautifulSoup(''.join(html_coffe), 'html.parser')


product_info_list = soup.find_all("div", {"class": [product_info_class]})

#for i in product_info_list:
    #print(i.text)
