


# importujemy potrzebne biblioteki
from os.path import pardir, join

import pandas as pd
import numpy as np 
import seaborn as sns
import matplotlib.pyplot as plt
from mlxtend.frequent_patterns import apriori, association_rules
from IPython.display import display

sns.set_palette("Blues")
apriori_dict = {
    'antecedents': 'poprzednicy',
    'consequents': 'następnicy',
    'antecedent support': 'wsparcie poprzedników',
    'consequent support': 'wsparcie następników',
    'support': 'wsparcie',
    'confidence': 'pewność',
    'lift': 'przyrost',
    'leverage': 'dźwignia',
    'conviction': 'przekonanie'
}











# wyznaczamy ścieżkę do pliku z danymi
data_dir = join(pardir, 'data')
filepath = join(data_dir, 'dane_analiza_koszykowa.csv')





# todo: wczytaj dane do zmiennej df
df = ...
# todo: wyświetl kilka pierwszych wierszy tabeli


def show_countplot(df, variable_name, description=None):
    """Pokazuje top 10 najlepiej sprzedających się produktów/kategorii."""
    assert variable_name in df.columns, "Kolumna nie zawiera się w tabeli, wybierz inną kolumnę."
    sns.countplot(x=variable_name, data=df, order=df[variable_name].value_counts().iloc[:10].index)
    plt.xticks(rotation=90)
    if description:
        plt.title(description)
    plt.show()





# todo: zapełnij tuple modelling_columns nazwami kolumn odpowiadających za poszczególne poziomy grupowania 
# produktów: (produkty, podkategorie, kategorie)
modelling_columns = (...)
for column_name in modelling_columns:
    print(f'Najlepiej sprzedające się produkty na poziomie {column_name}:')
    # todo: wyświetl wykres








# wypiszmy kolumny, które odpowiadają kolejnym poziomom modelowania
print(f'Istnieją {len(modelling_columns)} kolumny odpowiadające kolejnym poziomom modelowania:')
for colname in modelling_columns:
    print(f'- {colname}')


# todo: wybierz zmienną określającą poziom modelowania (jedna z wylistowanych powyżej)
modelling_variable = ...
# sprawdźmy czy dana zmienna istnieje w tabeli 
assert modelling_variable in df.columns, "Kolumna nie zawiera się w tabeli, wybierz inną kolumnę."


# todo: obróć tabelę przy pomocy pd.pivot_table
# hint: jako wartość parametru columns ustaw zmienną modelling_variable
basket = ...
# todo: wyświetl kilka pierwszych wierszy z tabeli basket
basket.head()


# todo: zapełnij pola NaN tabeli basket zerami
basket = ...
# zmieniamy wartości w tabeli zliczeniowej na binarne:
#  - 1 oznacza, że produkt występował w danym koszyku
#  - 0 oznacza,że nie występował
basket_sets = basket.applymap(lambda x: 1 if x >= 1 else 0)
basket_sets.head()


# wyznaczamy często występujące grupy produktów (występujące w przynamniej 1% koszyków)
frequent_itemsets = apriori(basket_sets, min_support=0.01, use_colnames=True)
# na podstawie grup wyznaczamy reguły asocjacyjne
rules = association_rules(frequent_itemsets, metric="lift", min_threshold=1.0).rename(columns=apriori_dict)
print('Tabela z regułami zawiera następujące kolumny:')
for colname in rules.columns:
    print(f'- {colname}')
rules.head()


# todo: posortuj zbiór według pewności reguły
rules = ...
# todo: wyświetl kilka pierwszych reguł z tabeli rules








# wybierzmy część tabeli odpowiadającej koszykowi o id 229822
basket_id = 229822
receipt = df[df['receipt_id'] == basket_id]
# utwórzmy zbiór zawierający produkty z koszyka o id 2
basket_items = set(receipt[modelling_variable].values)
print(f'Koszyk o id: {basket_id} zawiera następujące produkty: {basket_items}')





# do spełnienia warunku 1. użyjemy funkcji obliczającej podobieństwa Jaccarda
# umożliwi nam ona sortowanie reguł według podobieństwa ich poprzedników do koszyka
def jaccard_similarity(x, y):
    x, y = set(x), set(y)
    return len(x.intersection(y)) / len(x.union(y))

# do spełnienia warunku 2. użyjemy funkcji sprawdzającej wielkość części wspólnej
# następników i koszyka
def intersects_with_basket(x, y):
    x = set(x['następnicy'])
    return len(x.intersection(y)) == 0





# todo: dodaj kolumnę zawierającą podobieństwo poprzedników reguły do koszyka
rules['podobieństwo'] = ...
# usuń reguły o następnikach występujących już w koszyku
rules = rules[rules.apply(lambda x: intersects_with_basket(x, basket_items), axis=1)]





# todo: odfiltruj reguły o zerowym podobieństwie do koszyka
recommendations = ...
# todo: wyświetl kilka pierwszych wierszy tabeli


# todo: posortuj reguły malejąco według podobieństwa i pewności
recommendations = ...
# todo: wyświetl kilka pierwszych wierszy tabeli


# todo: odrzuć wszystkie kolumny oprócz następników, pewności i przyrostu
columns_to_keep = [...]
recommendations = recommendations[columns_to_keep]
# todo: wyświetl kilka pierwszych wierszy tabeli
recommendations.head()


# todo: usuń duplikaty zachowując reguły o największej pewności
recommendations = ...
# todo: wyświetl kilka pierwszych wierszy tabeli
recommendations.head()


recommendations_display = pd.DataFrame()
recommendations_display['Rekomendowane produkty'] = recommendations['następnicy'].apply(lambda x: ', '.join([x for x in iter(x)]))
recommendations_display['Pewność rekomendacji (%)'] = recommendations['pewność'].apply(lambda x: str(round(100 * x, 2)) + '%')
recommendations_display['Przyrost'] = recommendations['przyrost']
print(f"Wiedząc, że klient kupił {', '.join(list(basket_items))}")
recommendations_display.reset_index().drop(columns=['index']).head(10)



