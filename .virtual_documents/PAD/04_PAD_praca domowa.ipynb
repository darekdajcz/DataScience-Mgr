


import pandas as pd
import numpy as np


data = pd.read_csv('orders.csv')

data['order_date'] = pd.to_datetime(data['order_date'], format='%Y/%m/%d')


data['tshirt_category'] = data['tshirt_category'].replace({
    'Wh Tshirt M':'White T-Shirt M',
    'Bl Tshirt M':'Black T-Shirt M',
    'Wh Tshirt F':'White T-Shirt F',
    'Bl Tshirt F':'Black T-Shirt F',
})
unique_values = data['tshirt_category'].value_counts()


def split_tshirt_category(category):
    parts = category.split()
    tshirt_type = 'Koszulka' if 'T-Shirt' in parts else 'Bluza' if 'Hoodie' in parts else 'Inne'
    tshirt_colour = parts[0] if parts[0] in ['Black', 'White'] else 'Nieznany'
    tshirt_department = 'M' if 'M' in parts else 'F' if 'F' in parts else 'Unisex'
    return pd.Series([tshirt_type, tshirt_department, tshirt_colour])

data[['tshirt_type', 'tshirt_department', 'tshirt_colour']] = data['tshirt_category'].apply(split_tshirt_category)

filtered_orders = data[(data['order_date'] >= '2014-12-31') & (data['order_date'] <= '2016-08-02')]
print(filtered_orders)







data = pd.read_csv('customers.csv')
ordersData = pd.read_csv('orders.csv')

print(data.columns)

print(data.shape)

print("Rozmiar ramki 'data':", data.shape)

print("Rozmiar ramki 'orders':", ordersData.shape)

if data.shape == ordersData.shape:
    print("Ramki mają taki sam rozmiar.")
else:
    print("Ramki mają różne rozmiary.")

data.rename(columns={'customerID': 'customer_id'}, inplace=True)
data
ordersData


merge_data = ordersData.merge(data, on='customer_id', how='inner')
merge_data
#do połączenia użyliśmy metody merge, ktora pozwala na 
#laczenie dwoch ramek danych na podstawie wspolnej kolumny





merge_data.to_csv('merge_data.csv', index=False)
