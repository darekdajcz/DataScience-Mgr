import pandas as pd
df = pd.read_csv('produkty_mediaexpert_szczegoly.csv')
df


df['Cena'] = df['Cena'].str.replace('\n', '').str.replace(' zł', '').str.replace('n', '').astype(float)


df = df.dropna() 
df['RAM'] = df['RAM'].str.extract('(\d+)').astype(int)  # Wyciągnięcie liczby GB z tekstu
df['Dysk SSD'] = df['Dysk SSD'].str.replace('GB', '').str.replace('TB', '000').astype(int)
df
