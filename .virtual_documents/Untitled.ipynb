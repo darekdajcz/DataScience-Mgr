#import inline
import numpy as np
import pandas as pd
import matplotlib.pyplot as plt
import seaborn; seaborn.set()

# data = pd.read_csv('/Users/darekdajcz/Downloads/OneDrive_1_12.10.2024/Seattle2014.csv')
data = pd.read_csv('./data/Seattle2014.csv')


import os
print(os.getcwd())





