











import pandas as pd
import numpy as np
from sklearn.datasets import load_digits
import matplotlib.pyplot as plt
digits = load_digits()
data = pd.DataFrame(digits.data, columns=[f"col:{i}" for i in range(digits.data.shape[1])])
data =data.iloc[:, :10]

first5 = data.head(5)
last5 = data.tail(5)
print(first5)
print(last5)





attributes = data.shape[1]
record_length = data.shape[0]
types = data.dtypes
value_ranges = {col: (data[col].min(), data[col].max()) for col in data}

num_incomplete = data.isnull().sum().sum()

anomalies = np.sum((data < data.mean() - 3 * data.std()) | (data > data.mean() + 3 * data.std()), axis=0).sum()
data





description = data.describe()
print(description)





fig, axes = plt.subplots(5, 2, figsize=(18, 20))
axes = axes.ravel()

colors = ['#1f77b4', '#ff7f0e', '#2ca02c', '#d62728', '#9467bd', '#8c564b', '#e377c2', '#7f7f7f', '#bcbd22', '#17becf']

for i, attribute in enumerate(data.columns):
    values = data[attribute].value_counts()
    axes[i].barh(values.index, values.values, color=colors[i % len(colors)], edgecolor='black')
    axes[i].set_xlabel("Freq")
    axes[i].set_ylabel(attribute)
    axes[i].grid(True, linestyle='--', alpha=0.5)

    axes[i].annotate('', xy=(max(values.values), len(values.index) - 1), xytext=(0, len(values.index) - 1),
                     arrowprops=dict(arrowstyle="->", color='black', lw=1.5))

    for idx, value in enumerate(values.values):
        axes[i].text(value, idx, f"{value:.4g}", va='center', ha='right', fontsize=9)

plt.tight_layout()
plt.show()









dataF = pd.read_csv('EWD/NFWBS_PUF_2016_data.csv')
dataF





#print(dataF.info())
#print(dataF.head())
#print(dataF.describe())





dataF_cleaned = dataF.dropna()


dataF_cleaned = dataF_cleaned.drop_duplicates()

number_columns = dataF_cleaned.select_dtypes(include=['number']).columns.tolist()

category_columns = dataF_cleaned.select_dtypes(exclude=['number']).columns.tolist()
mean = df_cleaned[number_columns].mean()
std = df_cleaned[number_columns].std()
dataF_cleaned = dataF_cleaned[(np.abs(dataF_cleaned[number_columns] - mean) <= 3 * std).all(axis=1)]
#print(dataF_cleaned)
print(df_cleaned.info())





import matplotlib.pyplot as plt

# Funkcja do tworzenia wykresów porównawczych
def plot_comparison(original, cleaned, column):
    plt.figure(figsize=(12, 6))

    # Histogram dla danych przed oczyszczeniem
    plt.subplot(1, 2, 1)
    original[column].hist(bins=30, color='blue', alpha=0.7)
    plt.title(f'{column} - Przed oczyszczeniem')
    plt.xlabel(column)
    plt.ylabel('Częstotliwość')

    # Histogram dla danych po oczyszczeniu
    plt.subplot(1, 2, 2)
    cleaned[column].hist(bins=30, color='green', alpha=0.7)
    plt.title(f'{column} - Po oczyszczeniu')
    plt.xlabel(column)
    plt.ylabel('Częstotliwość')

    plt.tight_layout()
    plt.show()

# Przykładowe porównanie dla wybranego atrybutu numerycznego
plot_comparison(dataF, dataF_cleaned, 'FWBscore')






















