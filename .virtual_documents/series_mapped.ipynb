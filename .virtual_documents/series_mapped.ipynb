import pandas as pd
import numpy as np
import matplotlib.pyplot as plt
import math as math


team = pd.Series(data=[5,3,2,4,3,4,4,5],index=['Andy', 'Bob','Chris','Dirk','Francis','George','Henry','Ivan']) 
team


notes = pd.Series(data['C','B','A','A+','A++'],index=[1,2,3,4,5])
notes


notes = pd.Series(data=['C','B','A','A+','A++'],index=[1,2,3,4,5])
notes


 team.map(notes)


notes_dict = {1:'C', 2:'B', 3:'A',4:'A+',5:'A++'}


notes_dict


team.map(notes_dict)


teamNotes = team.map(notes_dict)



teamNotes



