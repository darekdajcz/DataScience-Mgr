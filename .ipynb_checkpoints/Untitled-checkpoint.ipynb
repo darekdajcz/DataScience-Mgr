{
 "cells": [
  {
   "cell_type": "code",
   "execution_count": 7,
   "id": "42514b8d-8413-4717-9484-b6dcf300f45b",
   "metadata": {},
   "outputs": [
    {
     "ename": "SyntaxError",
     "evalue": "invalid non-printable character U+202F (1476721753.py, line 16)",
     "output_type": "error",
     "traceback": [
      "\u001b[0;36m  Cell \u001b[0;32mIn[7], line 16\u001b[0;36m\u001b[0m\n\u001b[0;31m    import seaborn;seaborn.set()\u001b[0m\n\u001b[0m                                ^\u001b[0m\n\u001b[0;31mSyntaxError\u001b[0m\u001b[0;31m:\u001b[0m invalid non-printable character U+202F\n"
     ]
    }
   ],
   "source": [
    "#import inline\n",
    "import numpy as np\n",
    "import pandas as pd\n",
    "import matplotlib.pyplot as plt\n",
    "import seaborn; seaborn.set()\n",
    "\n",
    "# data = pd.read_csv('/Users/darekdajcz/Downloads/OneDrive_1_12.10.2024/Seattle2014.csv')\n",
    "data = pd.read_csv('./data/Seattle2014.csv')['PRCP'].values \n",
    "\n",
    "inches.shape \n",
    "\n",
    "\n",
    "\n",
    "%matplotlib inline \n",
    "\n",
    "plt.hist(inches, 40); \n"
   ]
  },
  {
   "cell_type": "code",
   "execution_count": null,
   "id": "c161c4c1-0367-4f1d-a815-b236db169744",
   "metadata": {},
   "outputs": [],
   "source": []
  },
  {
   "cell_type": "code",
   "execution_count": null,
   "id": "83daccc4-3dd7-47f8-8228-788f99ea09fc",
   "metadata": {},
   "outputs": [],
   "source": []
  }
 ],
 "metadata": {
  "kernelspec": {
   "display_name": "Python 3 (ipykernel)",
   "language": "python",
   "name": "python3"
  },
  "language_info": {
   "codemirror_mode": {
    "name": "ipython",
    "version": 3
   },
   "file_extension": ".py",
   "mimetype": "text/x-python",
   "name": "python",
   "nbconvert_exporter": "python",
   "pygments_lexer": "ipython3",
   "version": "3.10.13"
  }
 },
 "nbformat": 4,
 "nbformat_minor": 5
}
