{
 "cells": [
  {
   "cell_type": "code",
   "execution_count": 1,
   "metadata": {},
   "outputs": [
    {
     "name": "stdout",
     "output_type": "stream",
     "text": [
      "Defaulting to user installation because normal site-packages is not writeable\n",
      "Collecting selenium\n",
      "  Downloading selenium-4.18.1-py3-none-any.whl (10.0 MB)\n",
      "                                              0.0/10.0 MB ? eta -:--:--\n",
      "                                              0.2/10.0 MB 3.3 MB/s eta 0:00:04\n",
      "     ---                                      0.8/10.0 MB 10.0 MB/s eta 0:00:01\n",
      "     --------------                           3.6/10.0 MB 28.7 MB/s eta 0:00:01\n",
      "     --------------------------------         8.1/10.0 MB 46.9 MB/s eta 0:00:01\n",
      "     --------------------------------------- 10.0/10.0 MB 45.6 MB/s eta 0:00:00\n",
      "Collecting urllib3[socks]<3,>=1.26 (from selenium)\n",
      "  Downloading urllib3-2.2.1-py3-none-any.whl (121 kB)\n",
      "                                              0.0/121.1 kB ? eta -:--:--\n",
      "     ---------------------------------------- 121.1/121.1 kB ? eta 0:00:00\n",
      "Collecting trio~=0.17 (from selenium)\n",
      "  Downloading trio-0.24.0-py3-none-any.whl (460 kB)\n",
      "                                              0.0/460.2 kB ? eta -:--:--\n",
      "     ------------------------------------- 460.2/460.2 kB 28.1 MB/s eta 0:00:00\n",
      "Collecting trio-websocket~=0.9 (from selenium)\n",
      "  Downloading trio_websocket-0.11.1-py3-none-any.whl (17 kB)\n",
      "Collecting certifi>=2021.10.8 (from selenium)\n",
      "  Downloading certifi-2024.2.2-py3-none-any.whl (163 kB)\n",
      "                                              0.0/163.8 kB ? eta -:--:--\n",
      "     ---------------------------------------- 163.8/163.8 kB ? eta 0:00:00\n",
      "Collecting typing_extensions>=4.9.0 (from selenium)\n",
      "  Downloading typing_extensions-4.10.0-py3-none-any.whl (33 kB)\n",
      "Collecting attrs>=20.1.0 (from trio~=0.17->selenium)\n",
      "  Downloading attrs-23.2.0-py3-none-any.whl (60 kB)\n",
      "                                              0.0/60.8 kB ? eta -:--:--\n",
      "     ---------------------------------------- 60.8/60.8 kB ? eta 0:00:00\n",
      "Collecting sortedcontainers (from trio~=0.17->selenium)\n",
      "  Downloading sortedcontainers-2.4.0-py2.py3-none-any.whl (29 kB)\n",
      "Collecting idna (from trio~=0.17->selenium)\n",
      "  Downloading idna-3.6-py3-none-any.whl (61 kB)\n",
      "                                              0.0/61.6 kB ? eta -:--:--\n",
      "     ---------------------------------------- 61.6/61.6 kB 3.4 MB/s eta 0:00:00\n",
      "Collecting outcome (from trio~=0.17->selenium)\n",
      "  Downloading outcome-1.3.0.post0-py2.py3-none-any.whl (10 kB)\n",
      "Collecting sniffio>=1.3.0 (from trio~=0.17->selenium)\n",
      "  Downloading sniffio-1.3.1-py3-none-any.whl (10 kB)\n",
      "Collecting cffi>=1.14 (from trio~=0.17->selenium)\n",
      "  Downloading cffi-1.16.0-cp311-cp311-win_amd64.whl (181 kB)\n",
      "                                              0.0/181.5 kB ? eta -:--:--\n",
      "     ---------------------------------------- 181.5/181.5 kB ? eta 0:00:00\n",
      "Collecting wsproto>=0.14 (from trio-websocket~=0.9->selenium)\n",
      "  Downloading wsproto-1.2.0-py3-none-any.whl (24 kB)\n",
      "Collecting pysocks!=1.5.7,<2.0,>=1.5.6 (from urllib3[socks]<3,>=1.26->selenium)\n",
      "  Downloading PySocks-1.7.1-py3-none-any.whl (16 kB)\n",
      "Collecting pycparser (from cffi>=1.14->trio~=0.17->selenium)\n",
      "  Downloading pycparser-2.21-py2.py3-none-any.whl (118 kB)\n",
      "                                              0.0/118.7 kB ? eta -:--:--\n",
      "     ---------------------------------------- 118.7/118.7 kB ? eta 0:00:00\n",
      "Collecting h11<1,>=0.9.0 (from wsproto>=0.14->trio-websocket~=0.9->selenium)\n",
      "  Downloading h11-0.14.0-py3-none-any.whl (58 kB)\n",
      "                                              0.0/58.3 kB ? eta -:--:--\n",
      "     ---------------------------------------- 58.3/58.3 kB ? eta 0:00:00\n",
      "Installing collected packages: sortedcontainers, urllib3, typing_extensions, sniffio, pysocks, pycparser, idna, h11, certifi, attrs, wsproto, outcome, cffi, trio, trio-websocket, selenium\n",
      "Successfully installed attrs-23.2.0 certifi-2024.2.2 cffi-1.16.0 h11-0.14.0 idna-3.6 outcome-1.3.0.post0 pycparser-2.21 pysocks-1.7.1 selenium-4.18.1 sniffio-1.3.1 sortedcontainers-2.4.0 trio-0.24.0 trio-websocket-0.11.1 typing_extensions-4.10.0 urllib3-2.2.1 wsproto-1.2.0\n"
     ]
    },
    {
     "name": "stderr",
     "output_type": "stream",
     "text": [
      "\n",
      "[notice] A new release of pip is available: 23.1.2 -> 24.0\n",
      "[notice] To update, run: python.exe -m pip install --upgrade pip\n"
     ]
    },
    {
     "name": "stdout",
     "output_type": "stream",
     "text": [
      "Defaulting to user installation because normal site-packages is not writeable\n",
      "Collecting beautifulsoup4\n",
      "  Downloading beautifulsoup4-4.12.3-py3-none-any.whl (147 kB)\n",
      "                                              0.0/147.9 kB ? eta -:--:--\n",
      "     -------------------------------------- 147.9/147.9 kB 4.4 MB/s eta 0:00:00\n",
      "Collecting soupsieve>1.2 (from beautifulsoup4)\n",
      "  Downloading soupsieve-2.5-py3-none-any.whl (36 kB)\n",
      "Installing collected packages: soupsieve, beautifulsoup4\n",
      "Successfully installed beautifulsoup4-4.12.3 soupsieve-2.5\n"
     ]
    },
    {
     "name": "stderr",
     "output_type": "stream",
     "text": [
      "\n",
      "[notice] A new release of pip is available: 23.1.2 -> 24.0\n",
      "[notice] To update, run: python.exe -m pip install --upgrade pip\n"
     ]
    }
   ],
   "source": [
    "# https://pypi.org/project/selenium/\n",
    "# https://pypi.org/project/beautifulsoup4/\n",
    "!pip install selenium\n",
    "!pip install beautifulsoup4"
   ]
  },
  {
   "cell_type": "code",
   "execution_count": 2,
   "metadata": {},
   "outputs": [],
   "source": [
    "from selenium import webdriver\n",
    "from selenium.webdriver.chrome.service import Service\n",
    "\n",
    "download_service = Service()\n",
    "\n",
    "driver = webdriver.Chrome(service=download_service)\n"
   ]
  },
  {
   "cell_type": "code",
   "execution_count": 3,
   "metadata": {},
   "outputs": [],
   "source": [
    "driver.get(r\"https://www.coffeedesk.pl/kawa/\")"
   ]
  },
  {
   "cell_type": "code",
   "execution_count": null,
   "metadata": {},
   "outputs": [],
   "source": [
    "from selenium.webdriver.common.by import By\n",
    "button_id = \"CybotCookiebotDialogBodyLevelButtonLevelOptinAllowAll\"\n",
    "\n",
    "web_button = driver.find_element(by=By.ID, value=button_id)\n",
    "web_button.click()"
   ]
  },
  {
   "cell_type": "code",
   "execution_count": 7,
   "metadata": {},
   "outputs": [
    {
     "name": "stdout",
     "output_type": "stream",
     "text": [
      "illy Classico - Classic Roast - Kawa ziarnista ['36,90 zł', '31,90 zł']\n",
      "Lavazza Qualita Oro ['80,00 zł', '65,90 zł']\n",
      "HAYB - Się Przelewa Owoc 250g ['45,00 zł']\n",
      "Pellini Top 100% Arabica ['125,00 zł', '79,90 zł']\n",
      "HAYB - Się Przelewa Klasyk Filter Blend 250g ['34,00 zł']\n",
      "Lavazza Crema e Aroma ['65,00 zł', '54,90 zł']\n",
      "LaCava - Shady BRU Nikaragua + Rwanda 250g ['39,00 zł']\n",
      "HAYB - Się Przelewa Owoc 250g ['45,00 zł']\n",
      "illy Arabica Selection - Guatemala ['36,90 zł', '31,90 zł']\n",
      "illy Arabica Selection - Brazylia ['36,90 zł', '31,90 zł']\n",
      "HAYB - Się Przelewa Kwiat 250g ['45,00 zł']\n",
      "Kofi Brand - Kofi Brasil Espresso 250g ['35,00 zł']\n",
      "SIMPLo - Brazylia Aguas de Marco Filter ['43,00 zł']\n",
      "illy Classico - Moka Pot - Kawa mielona ['36,90 zł', '31,90 zł']\n",
      "illy Arabica Selection - Ethiopia ['36,90 zł', '31,90 zł']\n",
      "Pellini - Espresso Bar Vivace n 82 - 1kg ['92,00 zł', '55,90 zł']\n",
      "Hard Beans - Brazylia Samambaia Filter - Kawa ziarnista 250g ['42,00 zł']\n",
      "Johan & Nyström - Fika - Kawa mielona Filter 500g ['68,00 zł']\n",
      "Kofi Brand - Brazylia Guaxupe Espresso 250g ['27,99 zł']\n",
      "illy Intenso Bold Roast - Kawa mielona ['36,90 zł', '31,90 zł']\n",
      "Lavazza Gran Espresso ['76,00 zł', '65,90 zł']\n",
      "Audun Coffee - Brazylia Fazenda Rainha Miaki Espresso 500g ['70,00 zł']\n",
      "Johan & Nyström - Fika Filter 500g ['75,00 zł']\n",
      "New York Macinato Moka ['30,00 zł']\n",
      "Johan & Nyström - Bourbon Jungle Omniroast 500g ['67,00 zł']\n",
      "Coffeelab - Gwatemala Huehuetenango Espresso 250g ['31,00 zł']\n",
      "COFFEE PLANT - FLOW Very Berry Filter 250g ['44,00 zł', '36,90 zł']\n",
      "HAYB - Blue Espresso Blend 250g ['36,00 zł']\n",
      "COFFEE PLANT - FLOW Juicy Fruit Filter 250g ['42,00 zł', '36,90 zł']\n",
      "COFFEE PLANT - Flow Brownie Filter 250g ['37,00 zł']\n",
      "Audun Coffee - Brazylia Fazenda Rainha Miaki Espresso 250g ['35,00 zł']\n",
      "Gardelli Specialty Coffees - Cignobianco Espresso Blend 250g ['58,00 zł']\n",
      "Le Piantagioni del Caffe - Water Decaf - Kawa bezkofeinowa 250g ['48,00 zł', '46,90 zł']\n",
      "Kofi Brand - Brazylia Guaxupe Espresso 1kg ['109,00 zł']\n",
      "Hard Beans - Polska Parzucha - Kawa ziarnista 250g ['30,00 zł']\n",
      "Arcaffe Roma 1kg ['139,00 zł', '109,90 zł']\n",
      "HAYB - Black Espresso Blend 250g ['28,00 zł']\n",
      "HAYB - Się Przelewa Tropik Filter 250g ['49,00 zł']\n"
     ]
    }
   ],
   "source": [
    "product_info_class = \"product-info\"\n",
    "product_title_a_class = \"product-name\"\n",
    "product_price_div_class = \"product-price\"\n",
    "\n",
    "product_info_list = driver.find_elements(by=By.CLASS_NAME, value=product_info_class)\n",
    "product_data = {}\n",
    "for product in product_info_list:\n",
    "    name_element = product.find_element(by=By.CLASS_NAME, value=product_title_a_class)\n",
    "    price_element = product.find_elements(by=By.CLASS_NAME, value=product_price_div_class)\n",
    "    # To handle if there is more price elements that expected \n",
    "    prices = []\n",
    "    for price_i in price_element:\n",
    "        price = price_i.text\n",
    "        if price:\n",
    "            prices.append(price)\n",
    "    if len(price) > 0:\n",
    "     print(name_element.get_attribute('title'), prices)\n",
    "     product_data[name_element.get_attribute('title')] = prices"
   ]
  },
  {
   "cell_type": "code",
   "execution_count": 8,
   "metadata": {},
   "outputs": [],
   "source": [
    "import json\n",
    "\n",
    "with open(\"coffe_data.json\", 'w') as file:\n",
    "    json.dump(product_data, file)"
   ]
  },
  {
   "cell_type": "code",
   "execution_count": 9,
   "metadata": {},
   "outputs": [
    {
     "data": {
      "text/plain": [
       "37"
      ]
     },
     "execution_count": 9,
     "metadata": {},
     "output_type": "execute_result"
    }
   ],
   "source": [
    "len(product_data)"
   ]
  },
  {
   "cell_type": "code",
   "execution_count": 15,
   "metadata": {},
   "outputs": [],
   "source": [
    "from bs4 import BeautifulSoup\n",
    "\n",
    "html_coffe = driver.page_source\n",
    "\n",
    "soup = BeautifulSoup(''.join(html_coffe), 'html.parser')"
   ]
  },
  {
   "cell_type": "code",
   "execution_count": 2,
   "metadata": {},
   "outputs": [
    {
     "ename": "NameError",
     "evalue": "name 'soup' is not defined",
     "output_type": "error",
     "traceback": [
      "\u001b[0;31m---------------------------------------------------------------------------\u001b[0m",
      "\u001b[0;31mNameError\u001b[0m                                 Traceback (most recent call last)",
      "Cell \u001b[0;32mIn[2], line 1\u001b[0m\n\u001b[0;32m----> 1\u001b[0m product_info_list \u001b[38;5;241m=\u001b[39m \u001b[43msoup\u001b[49m\u001b[38;5;241m.\u001b[39mfind_all(\u001b[38;5;124m\"\u001b[39m\u001b[38;5;124mdiv\u001b[39m\u001b[38;5;124m\"\u001b[39m, {\u001b[38;5;124m\"\u001b[39m\u001b[38;5;124mclass\u001b[39m\u001b[38;5;124m\"\u001b[39m: [product_info_class]})\n",
      "\u001b[0;31mNameError\u001b[0m: name 'soup' is not defined"
     ]
    }
   ],
   "source": [
    "product_info_list = soup.find_all(\"div\", {\"class\": [product_info_class]})\n",
    "\n",
    "#for i in product_info_list:\n",
    "    #print(i.text)"
   ]
  }
 ],
 "metadata": {
  "kernelspec": {
   "display_name": "Python 3 (ipykernel)",
   "language": "python",
   "name": "python3"
  },
  "language_info": {
   "codemirror_mode": {
    "name": "ipython",
    "version": 3
   },
   "file_extension": ".py",
   "mimetype": "text/x-python",
   "name": "python",
   "nbconvert_exporter": "python",
   "pygments_lexer": "ipython3",
   "version": "3.10.13"
  }
 },
 "nbformat": 4,
 "nbformat_minor": 4
}
