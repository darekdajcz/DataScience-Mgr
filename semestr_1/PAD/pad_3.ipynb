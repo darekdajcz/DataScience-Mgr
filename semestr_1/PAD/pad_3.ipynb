{
 "cells": [
  {
   "cell_type": "code",
   "execution_count": 3,
   "id": "01af4357-d740-40c1-9db5-f33ffa045743",
   "metadata": {},
   "outputs": [
    {
     "ename": "NameError",
     "evalue": "name 'pd' is not defined",
     "output_type": "error",
     "traceback": [
      "\u001b[0;31m---------------------------------------------------------------------------\u001b[0m",
      "\u001b[0;31mNameError\u001b[0m                                 Traceback (most recent call last)",
      "Cell \u001b[0;32mIn[3], line 1\u001b[0m\n\u001b[0;32m----> 1\u001b[0m data \u001b[38;5;241m=\u001b[39m \u001b[43mpd\u001b[49m\u001b[38;5;241m.\u001b[39mread_csv(\u001b[38;5;124m'\u001b[39m\u001b[38;5;124mPAD_03_PD.csv\u001b[39m\u001b[38;5;124m'\u001b[39m)\n",
      "\u001b[0;31mNameError\u001b[0m: name 'pd' is not defined"
     ]
    }
   ],
   "source": [
    "data = pd.read_csv('PAD_03_PD.csv')"
   ]
  },
  {
   "cell_type": "code",
   "execution_count": 5,
   "id": "10e049e6-fdcb-44fc-9b88-bb24c6d95441",
   "metadata": {},
   "outputs": [],
   "source": [
    "import pandas as pd\n",
    "data = pd.read_csv('PAD_03_PD.csv')\n"
   ]
  },
  {
   "cell_type": "code",
   "execution_count": 6,
   "id": "ee31f426-7cbc-4680-a290-e41335a5396c",
   "metadata": {},
   "outputs": [
    {
     "name": "stdout",
     "output_type": "stream",
     "text": [
      "    ID;Country;owns_car;owns_TV;owns_house;owns_Phone;gender;Age\n",
      "0                                     1;A;0;0;0;1;M;61          \n",
      "1                                     2;B;0;0;0;1;M;44          \n",
      "2                                     3;A;0;0;0;1;M;56          \n",
      "3                                     4;A;0;0;0;1;M;53          \n",
      "4                                     5;C;1;1;0;1;K;60          \n",
      "..                                                 ...          \n",
      "795                                 796;B;0;0;0;1;K;28          \n",
      "796                                 797;B;0;0;0;1;M;26          \n",
      "797                                 798;A;0;0;0;1;M;61          \n",
      "798                                 799;B;0;1;0;1;K;47          \n",
      "799                                 800;B;0;1;0;1;K;51          \n",
      "\n",
      "[800 rows x 1 columns]\n"
     ]
    }
   ],
   "source": [
    "print(data)"
   ]
  }
 ],
 "metadata": {
  "kernelspec": {
   "display_name": "Python 3 (ipykernel)",
   "language": "python",
   "name": "python3"
  },
  "language_info": {
   "codemirror_mode": {
    "name": "ipython",
    "version": 3
   },
   "file_extension": ".py",
   "mimetype": "text/x-python",
   "name": "python",
   "nbconvert_exporter": "python",
   "pygments_lexer": "ipython3",
   "version": "3.10.13"
  }
 },
 "nbformat": 4,
 "nbformat_minor": 5
}
