{
 "cells": [
  {
   "cell_type": "code",
   "execution_count": null,
   "id": "initial_id",
   "metadata": {
    "collapsed": true
   },
   "outputs": [],
   "source": [
    "# Analiza ogólna sklepów\n",
    "# Mediana ceny w sklepach wygląda na podobną, jednak x-kom wyróżnia się wyższą medianą, co sugeruje, że sklep ten koncentruje się na ofercie klasy premium\n",
    "# Wartość maksymalna w x-kom jest znacząco wyższa niż w pozostałych sklepach, co wskazuje na obecność sprzętu z najwyższej półki cenowej, np. MacBooków czy zaawansowanych laptopów gamingowych\n",
    "# RTV Euro AGD i MediaExpert charakteryzują się bardziej zróżnicowanymi cenami, co sugeruje, że te sklepy rywalizują o klientów w różnych segmentach cenowych, przede wszystkim w klasie średniej"
   ]
  },
  {
   "metadata": {},
   "cell_type": "code",
   "outputs": [],
   "execution_count": null,
   "source": [
    "#  Analiza niskobudżetowych laptopów\n",
    "\n",
    "# W kategorii niskobudżetowych laptopów (cena < 2000 zł) zauważamy, że:\n",
    "#\n",
    "# RAM: Najczęściej występują laptopy z 8 GB RAM, co dominuje w tej kategorii, a 16 GB to rzadziej spotykany wyjątek w tej grupie cenowej. Pojawia się także kilka modeli z niższymi wartościami RAM (np. 4 GB), ale są to pojedyncze przypadki\n",
    "\n",
    "# System operacyjny: Laptopy niskobudżetowe w większości oferują Windows 11 Home lub Chrome OS. Brak systemu również jest popularny w tej kategorii, co sugeruje możliwość obniżenia ceny przez sklepy\n",
    "\n",
    "# W tej kategorii cenowej praktycznie nie występują produkty z systemem macOS czy procesorami Qualcomm, co jest zgodne z oczekiwaniem, że te technologie są zarezerwowane dla sprzętu premium\n",
    "\n",
    "# x-kom nie celuje w tej kategorii w różnorodność – skupia się raczej na sprzęcie klasy średniej i\n",
    "#\n",
    "#\n",
    "# Analiza systemów operacyjnych\n",
    "\n",
    "# Windows 11 Home jest zdecydowanie najpopularniejszym systemem w niskobudżetowych laptopach, co wskazuje na standardowe rozwiązanie dla większości użytkowników\n",
    "\n",
    "# Chrome OS również zyskuje popularność, zwłaszcza w tanich laptopach, takich jak Chromebooki\n",
    "\n",
    "# macOS i Windows 11 Professional praktycznie nie występują w tej kategorii, co sugeruje, że są to technologie zarezerwowane dla droższych modeli premium\n",
    "\n",
    "\n",
    "# RAM i Cena: Korelacja wynosi 0.60, co oznacza średnią dodatnią korelację Wyższa ilość RAM zwykle wiąże się z wyższą ceną, co jest zgodne z oczekiwaniami – więcej RAM wskazuje na bardziej zaawansowane laptopy\n",
    "# Dysk SSD i Cena: Korelacja wynosi 0.46, co również wskazuje na dodatnią zależność. Większa pojemność dysku SSD zwiększa cenę, choć w mniejszym stopniu niż RAM"
   ],
   "id": "99584bd2fb7c298f"
  }
 ],
 "metadata": {
  "kernelspec": {
   "display_name": "Python 3",
   "language": "python",
   "name": "python3"
  },
  "language_info": {
   "codemirror_mode": {
    "name": "ipython",
    "version": 2
   },
   "file_extension": ".py",
   "mimetype": "text/x-python",
   "name": "python",
   "nbconvert_exporter": "python",
   "pygments_lexer": "ipython2",
   "version": "2.7.6"
  }
 },
 "nbformat": 4,
 "nbformat_minor": 5
}
