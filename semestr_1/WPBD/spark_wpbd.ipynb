{
 "cells": [
  {
   "cell_type": "code",
   "id": "initial_id",
   "metadata": {
    "collapsed": true,
    "ExecuteTime": {
     "end_time": "2025-01-26T11:40:07.126206Z",
     "start_time": "2025-01-26T11:40:06.013445Z"
    }
   },
   "source": [
    "from pyspark.sql import SparkSession\n",
    "from pyspark.sql.functions import col, sum as spark_sum\n",
    "\n",
    "session = SparkSession.builder.appName(\"OrderAnalysis\").getOrCreate()\n",
    "\n",
    "df = session.read.csv(\"customer-orders.csv\", header=False, inferSchema=True)\n",
    "\n",
    "df = df.withColumnRenamed(\"_c0\", \"client_id\") \\\n",
    "                     .withColumnRenamed(\"_c1\", \"item_id\") \\\n",
    "                     .withColumnRenamed(\"_c2\", \"amount\")\n",
    "\n",
    "df = df.withColumn(\"amount\", col(\"amount\").cast(\"float\"))\n",
    "\n",
    "totals_orders = df.groupBy(\"client_id\").agg(spark_sum(\"amount\").alias(\"total_amount\"))\n",
    "\n",
    "totals_orders.show()\n",
    "\n",
    "sorted_totals = totals_orders.orderBy(col(\"total_amount\").desc())\n",
    "\n",
    "sorted_totals.show()\n"
   ],
   "outputs": [
    {
     "name": "stdout",
     "output_type": "stream",
     "text": [
      "+---------+------------------+\n",
      "|client_id|      total_amount|\n",
      "+---------+------------------+\n",
      "|       31| 4765.050008416176|\n",
      "|       85|  5503.42998456955|\n",
      "|       65| 5140.349995829165|\n",
      "|       53| 4945.300026416779|\n",
      "|       78| 4524.510001778603|\n",
      "|       34|5330.8000039458275|\n",
      "|       81|   5112.7100045681|\n",
      "|       28|  5000.71000123024|\n",
      "|       76| 4904.210003614426|\n",
      "|       27| 4915.890009522438|\n",
      "|       26| 5250.399979650974|\n",
      "|       44| 4756.890008449554|\n",
      "|       12| 4664.589988231659|\n",
      "|       91| 4642.259980916977|\n",
      "|       22| 5019.449993014336|\n",
      "|       93|5265.7500213086605|\n",
      "|       47| 4316.299998342991|\n",
      "|        1| 4958.599974133074|\n",
      "|       52|  5245.05999673903|\n",
      "|       13| 4367.619992315769|\n",
      "+---------+------------------+\n",
      "only showing top 20 rows\n",
      "\n",
      "+---------+------------------+\n",
      "|client_id|      total_amount|\n",
      "+---------+------------------+\n",
      "|       68| 6375.450028181076|\n",
      "|       73| 6206.199985742569|\n",
      "|       39| 6193.109993815422|\n",
      "|       54| 6065.390002984554|\n",
      "|       71| 5995.659991919994|\n",
      "|        2| 5994.589979887009|\n",
      "|       97| 5977.190007060766|\n",
      "|       46| 5963.110011339188|\n",
      "|       42| 5696.840004444122|\n",
      "|       59| 5642.890004396439|\n",
      "|       41| 5637.619991332293|\n",
      "|        0| 5524.950008839369|\n",
      "|        8|5517.2399980425835|\n",
      "|       85|  5503.42998456955|\n",
      "|       61| 5497.479998707771|\n",
      "|       32| 5496.049998283386|\n",
      "|       58| 5437.730004191399|\n",
      "|       63| 5415.150004655123|\n",
      "|       15| 5413.510010659695|\n",
      "|        6| 5397.880012750626|\n",
      "+---------+------------------+\n",
      "only showing top 20 rows\n",
      "\n"
     ]
    }
   ],
   "execution_count": 2
  }
 ],
 "metadata": {
  "kernelspec": {
   "display_name": "Python 3",
   "language": "python",
   "name": "python3"
  },
  "language_info": {
   "codemirror_mode": {
    "name": "ipython",
    "version": 2
   },
   "file_extension": ".py",
   "mimetype": "text/x-python",
   "name": "python",
   "nbconvert_exporter": "python",
   "pygments_lexer": "ipython2",
   "version": "2.7.6"
  }
 },
 "nbformat": 4,
 "nbformat_minor": 5
}
