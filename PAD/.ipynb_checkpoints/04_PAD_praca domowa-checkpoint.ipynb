{
 "cells": [
  {
   "cell_type": "markdown",
   "metadata": {
    "id": "6s5atoa1swg0"
   },
   "source": [
    "Zadanie 1 (5 pkt)\n",
    "\n",
    "\n",
    "Wgraj zawartość pliku orders.csv do ramki danych.\n",
    "Przyjrzyj się danym, wykorzystując poznane metody (describe, info, head) zanalizuj dane.\n",
    "\n",
    "Następnie:\n",
    "\n",
    "\n",
    "\n",
    "1. Zamień order_date na format daty. Upewnij się, że w rezultacie data będzie w formacie: rok-miesiąc-dzień;\n",
    "2. Sprawdź ile i jakie unikalne wartości znajdują się w kolumnie T-shirt category;\n",
    "3. Wyczyść kolumnę tshirt_category normalizując nazwy produktów. Upewnij się, że dla każdej kategorii funkcjonuje jedna nazwa, np. zamiast white i wh jest tylko jedna wersja white.\n",
    "4. Rozdziel kolumnę tshirt category na 3 kolumny: tshirt_type, która będzie mówiła o tym czy jest to koszulka, bluza czy coś innego, tshirt_department, która będzie informowała o tym czy jest męska czy żeńska, i tshirt_colour, która będzie informowała o kolorze. Skorzystaj z metody apply.\n",
    "5. Znajdź zamówienia złożone między 31 grudnia 2014 a 2 sierpnia 2016.\n"
   ]
  },
  {
   "cell_type": "code",
   "execution_count": 3,
   "metadata": {},
   "outputs": [
    {
     "name": "stdout",
     "output_type": "stream",
     "text": [
      "Intel MKL WARNING: Support of Intel(R) Streaming SIMD Extensions 4.2 (Intel(R) SSE4.2) enabled only processors has been deprecated. Intel oneAPI Math Kernel Library 2025.0 will require Intel(R) Advanced Vector Extensions (Intel(R) AVX) instructions.\n",
      "Intel MKL WARNING: Support of Intel(R) Streaming SIMD Extensions 4.2 (Intel(R) SSE4.2) enabled only processors has been deprecated. Intel oneAPI Math Kernel Library 2025.0 will require Intel(R) Advanced Vector Extensions (Intel(R) AVX) instructions.\n"
     ]
    }
   ],
   "source": [
    "import pandas as pd\n",
    "import numpy as np"
   ]
  },
  {
   "cell_type": "code",
   "execution_count": 32,
   "metadata": {
    "id": "Ktake9Iqsl1O"
   },
   "outputs": [
    {
     "name": "stdout",
     "output_type": "stream",
     "text": [
      "      order_date  pages_visited         order_id customer_id  tshirt_category  \\\n",
      "4     2015-10-22             12  HTS-88ua9r-0001      88ua9r  White T-Shirt M   \n",
      "5     2016-01-15              9  HTS-061311-0003      061311  Black T-Shirt F   \n",
      "12    2015-11-24             15  HTS-je57lh-0001      je57lh           Hoodie   \n",
      "13    2015-10-10              8  HTS-252675-0002      252675  White T-Shirt M   \n",
      "15    2015-11-29             15  HTS-heb26i-0001      heb26i  Black T-Shirt F   \n",
      "...          ...            ...              ...         ...              ...   \n",
      "26496 2016-06-02              2  HTS-5b4bg6-0001      5b4bg6  Black T-Shirt F   \n",
      "26513 2016-07-05             12  HTS-bt08zd-0001      bt08zd  White T-Shirt F   \n",
      "26515 2016-07-27             17  HTS-gsc3f6-0001      gsc3f6           Hoodie   \n",
      "26540 2016-06-08              7  HTS-6ba0i0-0001      6ba0i0  White T-Shirt M   \n",
      "26548 2016-08-02              4  HTS-q0nm12-0001      q0nm12  White T-Shirt M   \n",
      "\n",
      "       tshirt_price  tshirt_quantity tshirt_type tshirt_department  \\\n",
      "4              20.0                1    Koszulka                 M   \n",
      "5              17.5                4    Koszulka                 F   \n",
      "12             23.0                3       Bluza            Unisex   \n",
      "13             20.0                3    Koszulka                 M   \n",
      "15             17.5                1    Koszulka                 F   \n",
      "...             ...              ...         ...               ...   \n",
      "26496          17.5                1    Koszulka                 F   \n",
      "26513          18.0                1    Koszulka                 F   \n",
      "26515          23.0                1       Bluza            Unisex   \n",
      "26540          20.0                4    Koszulka                 M   \n",
      "26548          20.0                1    Koszulka                 M   \n",
      "\n",
      "      tshirt_colour  \n",
      "4             White  \n",
      "5             Black  \n",
      "12         Nieznany  \n",
      "13            White  \n",
      "15            Black  \n",
      "...             ...  \n",
      "26496         Black  \n",
      "26513         White  \n",
      "26515      Nieznany  \n",
      "26540         White  \n",
      "26548         White  \n",
      "\n",
      "[12638 rows x 10 columns]\n"
     ]
    }
   ],
   "source": [
    "data = pd.read_csv('orders.csv')\n",
    "data['order_date'] = pd.to_datetime(data['order_date'], format='%Y/%m/%d')\n",
    "\n",
    "\n",
    "data['tshirt_category'] = data['tshirt_category'].replace({\n",
    "    'Wh Tshirt M':'White T-Shirt M',\n",
    "    'Bl Tshirt M':'Black T-Shirt M',\n",
    "    'Wh Tshirt F':'White T-Shirt F',\n",
    "    'Bl Tshirt F':'Black T-Shirt F',\n",
    "})\n",
    "unique_values = data['tshirt_category'].value_counts()\n",
    "\n",
    "\n",
    "def split_tshirt_category(category):\n",
    "    parts = category.split()\n",
    "    tshirt_type = 'Koszulka' if 'T-Shirt' in parts else 'Bluza' if 'Hoodie' in parts else 'Inne'\n",
    "    tshirt_colour = parts[0] if parts[0] in ['Black', 'White'] else 'Nieznany'\n",
    "    tshirt_department = 'M' if 'M' in parts else 'F' if 'F' in parts else 'Unisex'\n",
    "    return pd.Series([tshirt_type, tshirt_department, tshirt_colour])\n",
    "\n",
    "data[['tshirt_type', 'tshirt_department', 'tshirt_colour']] = data['tshirt_category'].apply(split_tshirt_category)\n",
    "\n",
    "filtered_orders = data[(data['order_date'] >= '2014-12-31') & (data['order_date'] <= '2016-08-02')]\n",
    "print(filtered_orders)\n",
    "\n"
   ]
  },
  {
   "cell_type": "markdown",
   "metadata": {
    "id": "g0QB8rtHtGhT"
   },
   "source": [
    "Zadanie 2 (4 pkt)\n",
    "\n",
    "\n",
    "Wgraj plik customers.csv do ramki danych.\n",
    "\n",
    "Następnie:\n",
    "1. Wypisz kolumny;\n",
    "2. Porównaj rozmiar ramki z rozmiarem ramki w zadaniu 1;\n",
    "3. Zmień nazwę kolumny customerID  na customer_id upewniając się, że dane zmiana zostanie zapisana w pamięci dzięki jednemu z argumentów metody do zmiany nazwy kolumny;\n",
    "4. Połącz ramkę orders z ramką customers po kolumnie customer_id. Z której metody skorzystasz? Zostaw odpowiedź w komentarzu do zadania w kodzie (np. blok komentarzem ‘’’ ‘’’).\n"
   ]
  },
  {
   "cell_type": "code",
   "execution_count": 35,
   "metadata": {
    "id": "_rfPFhLGtRm-"
   },
   "outputs": [
    {
     "name": "stdout",
     "output_type": "stream",
     "text": [
      "Index(['customerID', 'gender', 'birthdate', 'user_agent', 'ip_address',\n",
      "       'campaign'],\n",
      "      dtype='object')\n"
     ]
    }
   ],
   "source": [
    "data = pd.read_csv('customers.csv')\n",
    "print(data.columns)\n",
    "\n",
    "print(data.shape)"
   ]
  },
  {
   "cell_type": "markdown",
   "metadata": {
    "id": "bCKqMqJQtR8s"
   },
   "source": [
    "Zadanie 3 (1 pkt)\n",
    "\n",
    "Nową ramkę (połączenie orders i customers) zapisz do pliku csv, ale zapisz bez kolumny z indeksem.\n"
   ]
  },
  {
   "cell_type": "code",
   "execution_count": null,
   "metadata": {
    "id": "J2gA9RVStSTa"
   },
   "outputs": [],
   "source": []
  }
 ],
 "metadata": {
  "colab": {
   "provenance": []
  },
  "kernelspec": {
   "display_name": "Python 3 (ipykernel)",
   "language": "python",
   "name": "python3"
  },
  "language_info": {
   "codemirror_mode": {
    "name": "ipython",
    "version": 3
   },
   "file_extension": ".py",
   "mimetype": "text/x-python",
   "name": "python",
   "nbconvert_exporter": "python",
   "pygments_lexer": "ipython3",
   "version": "3.10.13"
  }
 },
 "nbformat": 4,
 "nbformat_minor": 4
}
