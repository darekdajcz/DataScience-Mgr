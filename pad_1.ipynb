{
 "cells": [
  {
   "cell_type": "code",
   "execution_count": null,
   "id": "dc57c257-dc37-4d19-9610-93088fd6331d",
   "metadata": {},
   "outputs": [],
   "source": [
    "import numpy as np\n",
    "import pandas as pd\n",
    "import matplotlib.pyplot as plt\n",
    "import seaborn; seaborn.set()\n",
    "\n",
    "#rainfall = pd.read_csv('data/Seattle2014.csv')['PRCP'].values \n",
    "data = pd.read_csv('/Users/darekdajcz/Downloads/OneDrive_1_12.10.2024/Seattle2014.csv')\n",
    "data = pd.read_csv('/Users/darekdajcz/Downloads/OneDrive_1_12.10.2024/president_heights.csv')\n",
    "pd.read_csv('./data/pokemon.csv')\n",
    "\n",
    "inches = rainfall / 254.0  # 1/10mm -> inches \n",
    "\n",
    "inches.shape "
   ]
  },
  {
   "cell_type": "code",
   "execution_count": null,
   "id": "bfa1784c-8369-4b69-8951-a0f112e492e0",
   "metadata": {},
   "outputs": [],
   "source": []
  }
 ],
 "metadata": {
  "kernelspec": {
   "display_name": "Python 3 (ipykernel)",
   "language": "python",
   "name": "python3"
  },
  "language_info": {
   "codemirror_mode": {
    "name": "ipython",
    "version": 3
   },
   "file_extension": ".py",
   "mimetype": "text/x-python",
   "name": "python",
   "nbconvert_exporter": "python",
   "pygments_lexer": "ipython3",
   "version": "3.10.13"
  }
 },
 "nbformat": 4,
 "nbformat_minor": 5
}
